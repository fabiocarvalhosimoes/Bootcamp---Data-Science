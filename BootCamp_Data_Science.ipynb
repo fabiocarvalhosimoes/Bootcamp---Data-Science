{
 "cells": [
  {
   "cell_type": "markdown",
   "metadata": {},
   "source": [
    "<div align=\"center\">\n",
    "  <h1>\"Configurando o ambiente de codificação\"</h1>\n",
    "</div>\n"
   ]
  },
  {
   "cell_type": "markdown",
   "metadata": {},
   "source": [
    "<style>\n",
    "  <div align=\"center\">\n",
    "    <h1>Configurando o ambiente de codificação</h1>\n",
    "  </div>\n",
    "</style>\n",
    "\n",
    "\n",
    "### Por que Python para Ciência de Dados?\n",
    "\n",
    "\n",
    "\n",
    "- Livre e de código aberto\n",
    "\n",
    "- Grande comunidade\n",
    "\n",
    "- Muitas bibliotecas para Ciência de Dados e Machine Learning\n",
    "\n",
    "- Fácil e intuitivo de usar\n",
    "\n",
    "Nota:\n",
    "\n",
    "- Data Science não é sobre linguagens/ferramentas de programação como Python, R, Excel, Jupyter Notebook, Google Colab, etc.\n",
    "\n",
    "- Data Science está usando as ferramentas e técnicas acima e, se necessário, inventando novas ferramentas e técnicas para resolver um problema usando \"dados\" de forma \"científica\".\n",
    "\n",
    "\n",
    "\n",
    "### Python e Google Colab\n",
    "\n",
    "\n",
    "\n",
    "Agora que sabemos a importância do Python na Ciência de Dados. Vamos tentar entender as ferramentas que precisamos para executar tarefas de Python para Ciência de Dados.\n",
    "\n",
    "Um notebook interativo é um dos kits de ferramentas populares que os cientistas de dados usam para executar seus scripts python. Há várias maneiras de configurar um bloco de anotações interativo. Neste módulo, vamos aprender um deles, ou seja, como configurar e usar o Google Colab.\n",
    "\n",
    "\n",
    "\n",
    "### O que são Cadernos Interativos?\n",
    "\n",
    "\n",
    "\n",
    "Somos humanos e sempre precisamos de aplicativos amigáveis. Os cientistas de dados normalmente usam blocos de anotações para tarefas de exploração rápida e ambientes interativos de ciência de dados fáceis de usar.\n",
    "\n",
    "\n",
    "\n",
    "### Google Colab - Ambiente Online para Executar Código Python\n",
    "\n",
    "\n",
    "\n",
    "O Google Colab é a maneira mais simples de configurar um ambiente de notebook interativo para executar suas tarefas de ciência de dados.\n",
    "\n",
    "O ambiente oferece até 12 GB de RAM, GPU, 100 GB de armazenamento, etc., gratuitamente.\n",
    "\n",
    "Você não precisa se preocupar em instalar um aplicativo python volumoso em seu laptop / computador\n",
    "\n",
    "Link para acesso ao Google Colab: https://colab.research.google.com"
   ]
  },
  {
   "cell_type": "code",
   "execution_count": null,
   "metadata": {},
   "outputs": [],
   "source": []
  },
  {
   "cell_type": "code",
   "execution_count": null,
   "metadata": {},
   "outputs": [],
   "source": []
  }
 ],
 "metadata": {
  "kernelspec": {
   "display_name": "base",
   "language": "python",
   "name": "python3"
  },
  "language_info": {
   "name": "python",
   "version": "3.11.5"
  }
 },
 "nbformat": 4,
 "nbformat_minor": 2
}
