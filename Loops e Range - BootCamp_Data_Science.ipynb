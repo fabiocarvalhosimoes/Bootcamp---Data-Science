{
 "cells": [
  {
   "cell_type": "markdown",
   "metadata": {},
   "source": [
    "<div align=\"center\">\n",
    "  <h1>\"Loops e Range\"</h1>\n",
    "</div>\n",
    "\n",
    "\n",
    "O que vamos aprender?\n",
    "\n",
    "1. While loop\n",
    "2. For loop\n",
    "3. Enumerate\n",
    "4.Range\n",
    "\n",
    "\n",
    "### Loops\n",
    "\n",
    "\n",
    "- Um loop é uma sequência de instruções repetidas continuamente até que uma condição específica seja atingida.\n",
    "- Pense em um professor tendo assiduidade. O professor chama um nome, e o aluno responde presente.\n",
    "- O professor vai analisando a lista de alunos um a um e chamando um nome para verificar \"presente\" se o aluno estiver presente, ou \"<<silêncio>>\" se ele estiver ausente.\n",
    "- Esse processo só terminará quando toda a lista de alunos for concluída. Esta será a condição que sairá do circuito.\n",
    "\n",
    "\n",
    "#### Vejamos os tipos de loops em Python abaixo!"
   ]
  },
  {
   "cell_type": "code",
   "execution_count": 1,
   "metadata": {},
   "outputs": [],
   "source": [
    "a = [\"banana\", \"Macã\", \"Microsoft\"]\n"
   ]
  },
  {
   "cell_type": "code",
   "execution_count": 2,
   "metadata": {},
   "outputs": [
    {
     "name": "stdout",
     "output_type": "stream",
     "text": [
      "banana\n",
      "Macã\n",
      "Microsoft\n"
     ]
    }
   ],
   "source": [
    "print(a[0])\n",
    "print(a[1])\n",
    "print(a[2])"
   ]
  },
  {
   "cell_type": "code",
   "execution_count": 3,
   "metadata": {},
   "outputs": [
    {
     "name": "stdout",
     "output_type": "stream",
     "text": [
      "banana\n",
      "banana\n",
      "Macã\n",
      "Macã\n",
      "Microsoft\n",
      "Microsoft\n"
     ]
    }
   ],
   "source": [
    "for element in a:\n",
    "  print(element)\n",
    "  print(element)\n"
   ]
  },
  {
   "cell_type": "code",
   "execution_count": 10,
   "metadata": {},
   "outputs": [
    {
     "name": "stdout",
     "output_type": "stream",
     "text": [
      "20\n",
      "10\n",
      "5\n"
     ]
    }
   ],
   "source": [
    "# Definindo uma lista chamada 'b' com três elementos inteiros\n",
    "\n",
    "b = [20, 10, 5]\n",
    "\n",
    "# Iterando sobre cada elemento 'e' na lista 'b'\n",
    "\n",
    "for e in b:\n",
    "\n",
    "    # Imprimindo o valor do elemento 'e' em cada iteração do loop\n",
    "    \n",
    "    print(e)\n"
   ]
  },
  {
   "cell_type": "markdown",
   "metadata": {},
   "source": [
    "### Explicações detalhadas:\n",
    "\n",
    "1. b = [20, 10, 5]: Cria uma lista chamada 'b' com três elementos: 20, 10 e 5.\n",
    "\n",
    "2. for e in b: Inicia um loop que itera sobre cada elemento 'e' na lista 'b'.\n",
    "\n",
    "3. print(e): Imprime o valor do elemento 'e' em cada iteração do loop. Isso resultará na impressão dos elementos 20, 10 e 5 em linhas separadas, pois o comando print adiciona automaticamente uma quebra de linha após cada chamada.\n",
    "\n",
    "Portanto, o código percorre os elementos da lista 'b' e imprime cada um deles em linhas separadas.\n",
    "\n",
    "\n"
   ]
  },
  {
   "cell_type": "code",
   "execution_count": 9,
   "metadata": {},
   "outputs": [
    {
     "name": "stdout",
     "output_type": "stream",
     "text": [
      "O total é: 35\n"
     ]
    }
   ],
   "source": [
    "# Definindo uma lista chamada 'b' com três elementos inteiros\n",
    "\n",
    "b = [20, 10, 5]\n",
    "\n",
    "# Inicializando uma variável chamada 'total' com o valor zero\n",
    "\n",
    "total = 0\n",
    "\n",
    "# Iterando sobre cada elemento 'e' na lista 'b'\n",
    "\n",
    "for e in b:\n",
    "\n",
    "    # Adicionando o valor do elemento 'e' à variável 'total'\n",
    "\n",
    "    total = total + e\n",
    "\n",
    "# Imprimindo o resultado após o loop\n",
    "    \n",
    "print(\"O total é:\", total)\n",
    "\n"
   ]
  },
  {
   "cell_type": "markdown",
   "metadata": {},
   "source": [
    "### Explicações detalhadas:\n",
    "\n",
    "1. b = [20, 10, 5]: Cria uma lista chamada 'b' com três elementos: 20, 10 e 5.\n",
    "\n",
    "2. total = 0: Inicializa uma variável chamada 'total' com o valor zero. Essa variável será usada para armazenar a soma dos elementos da lista.\n",
    "\n",
    "3. for e in b:: Inicia um loop que itera sobre cada elemento 'e' na lista 'b'.\n",
    "\n",
    "4. total = total + e: Adiciona o valor do elemento 'e' à variável 'total' em cada iteração do loop.\n",
    "\n",
    "5. print(\"O total é:\", total): Imprime o resultado após o loop, exibindo a mensagem \"O total é:\" seguida do valor final da variável 'total'.\n",
    "\n",
    "Este código realiza a soma dos elementos da lista e imprime o resultado final. Ao executar, você verá a mensagem \"O total é: 35\", que é a soma de 20, 10 e 5."
   ]
  },
  {
   "cell_type": "markdown",
   "metadata": {},
   "source": [
    "### Iteração em Python:\n",
    "\n",
    "A iteração refere-se à repetição de um conjunto de instruções ou operações várias vezes. Em Python, você frequentemente encontra a necessidade de percorrer todos os itens em uma sequência, como uma lista, tupla ou string. Para isso, você usa estruturas de controle de fluxo, como loops.\n",
    "\n",
    "Exemplo prático:\n",
    "\n",
    "Vamos considerar o código que você forneceu:\n",
    "\n",
    "\n",
    "- b = [20, 10, 5]\n",
    "- for e in b:\n",
    "  \n",
    "    print(e)\n",
    "\n",
    "    \n",
    "Aqui, b é uma lista contendo três números (20, 10, 5). A palavra-chave for inicia um loop que percorre cada elemento da lista b. A variável e é uma espécie de \"placeholder\" que representa cada elemento da lista durante cada iteração do loop.\n",
    "\n",
    "Durante a primeira iteração, e será igual a 20, na segunda iteração será igual a 10 e, finalmente, na terceira iteração, será igual a 5. A função print(e) exibe o valor atual de e a cada iteração em uma linha separada.\n",
    "\n",
    "Portanto, a iteração permite que você execute um bloco de código para cada item em uma sequência, tornando mais fácil lidar com grandes conjuntos de dados, realizar cálculos repetitivos, entre outras tarefas."
   ]
  },
  {
   "cell_type": "code",
   "execution_count": 11,
   "metadata": {},
   "outputs": [
    {
     "name": "stdout",
     "output_type": "stream",
     "text": [
      "[1, 2, 3, 4]\n"
     ]
    }
   ],
   "source": [
    "# c = list(range(1, 5)): Utiliza a função range para gerar uma sequência de números de 1 a 4 e, em seguida\n",
    "# converte essa sequência em uma lista. \n",
    "# A variável 'c' armazena essa lista.\n",
    "\n",
    "c = list(range(1, 5))\n",
    "\n",
    "# Imprimindo a lista 'c' após sua criação\n",
    "\n",
    "print(c)\n"
   ]
  },
  {
   "cell_type": "code",
   "execution_count": 18,
   "metadata": {},
   "outputs": [
    {
     "ename": "IndentationError",
     "evalue": "expected an indented block after 'for' statement on line 1 (2280909363.py, line 2)",
     "output_type": "error",
     "traceback": [
      "\u001b[1;36m  Cell \u001b[1;32mIn[18], line 2\u001b[1;36m\u001b[0m\n\u001b[1;33m    print (i)\u001b[0m\n\u001b[1;37m    ^\u001b[0m\n\u001b[1;31mIndentationError\u001b[0m\u001b[1;31m:\u001b[0m expected an indented block after 'for' statement on line 1\n"
     ]
    }
   ],
   "source": [
    "for i in range(1, 5):\n",
    "print (i)"
   ]
  },
  {
   "cell_type": "markdown",
   "metadata": {},
   "source": [
    "Esse erro \"IndentationError\" ocorre quando a indentação do código não está correta. Em Python, a indentação é fundamental para indicar blocos de código, como loops, condicionais e funções."
   ]
  },
  {
   "cell_type": "code",
   "execution_count": 16,
   "metadata": {},
   "outputs": [
    {
     "name": "stdout",
     "output_type": "stream",
     "text": [
      "1\n",
      "2\n",
      "3\n",
      "4\n"
     ]
    }
   ],
   "source": [
    "# Iterando sobre uma sequência de números usando um loop for\n",
    "\n",
    "for i in range(1, 5):\n",
    "\n",
    "    # Imprimindo cada número na sequência\n",
    "    \n",
    "    print(i)\n"
   ]
  },
  {
   "cell_type": "markdown",
   "metadata": {},
   "source": [
    "### Explicações detalhadas:\n",
    "\n",
    "\n",
    "1. for i in range(1, 5): Inicia um loop for que itera sobre uma sequência de números gerada pela função range(1, 5). A sequência inclui números de 1 até 4 (o limite superior não é incluído).\n",
    "\n",
    "2. print(i): Imprime cada número na sequência. A variável i representa o elemento atual da iteração no loop for.\n",
    "\n",
    "Assim, o código itera sobre os números de 1 a 4 e imprime cada número em linhas separadas. "
   ]
  },
  {
   "cell_type": "code",
   "execution_count": 31,
   "metadata": {},
   "outputs": [
    {
     "name": "stdout",
     "output_type": "stream",
     "text": [
      "10\n"
     ]
    }
   ],
   "source": [
    "# Inicializando uma variável 'total12' com valor zero\n",
    "\n",
    "total12 = 0\n",
    "\n",
    "# Iterando sobre uma sequência de números usando um loop for\n",
    "# Utiliza a função range(1, 5) para gerar números de 1 até 4 (o limite superior não é incluído)\n",
    "\n",
    "for i in range(1, 5):\n",
    "\n",
    "    # Adicionando cada número da sequência à variável 'total12'\n",
    "    \n",
    "    total12 += i\n",
    "\n",
    "# Imprimindo o resultado da soma\n",
    "\n",
    "print(total12)\n"
   ]
  },
  {
   "cell_type": "markdown",
   "metadata": {},
   "source": [
    "### Explicações detalhadas:\n",
    "\n",
    "\n",
    "1. total12 = 0: Inicializa a variável total12 com valor zero. Essa variável será utilizada para armazenar a soma dos números da sequência.\n",
    "\n",
    "2. for i in range(1, 5): Inicia um loop for que itera sobre uma sequência de números gerada pela função range(1, 5). A sequência inclui números de 1 até 4 (o limite superior não é incluído).\n",
    "\n",
    "3. total12 += i: Adiciona cada número da sequência à variável total12 durante cada iteração do loop.\n",
    "  \n",
    "4. print(total12): Imprime o resultado final da soma dos números da sequência. Neste exemplo, a saída seria 10, que é a soma de 1 + 2 + 3 + 4.\n",
    "\n",
    "Este código realiza a soma dos números de 1 a 4 e imprime o resultado final. "
   ]
  },
  {
   "cell_type": "code",
   "execution_count": 26,
   "metadata": {},
   "outputs": [
    {
     "name": "stdout",
     "output_type": "stream",
     "text": [
      "[1, 2, 3, 4, 5, 6, 7]\n"
     ]
    }
   ],
   "source": [
    "# Imprimindo uma lista gerada pela função range\n",
    "# A função range(1, 8) gera uma sequência de números de 1 até 7 (o limite superior não é incluído)\n",
    "\n",
    "print(list(range(1, 8)))\n"
   ]
  },
  {
   "cell_type": "markdown",
   "metadata": {},
   "source": [
    "### Explicações detalhadas:\n",
    "\n",
    "\n",
    "1. range(1, 8): Utiliza a função range para gerar uma sequência de números de 1 até 7 (o limite superior não é incluído). A função range cria um objeto de sequência, e ao envolvê-lo com list(), convertemos essa sequência em uma lista.\n",
    "\n",
    "2. print(list(range(1, 8))): Imprime a lista gerada pela função range(1, 8). \n",
    "3. A saída será [1, 2, 3, 4, 5, 6, 7], que são os números de 1 a 7 inclusivos.\n",
    "\n",
    "Portanto, este código gera uma lista de números de 1 a 7 e a imprime."
   ]
  },
  {
   "cell_type": "code",
   "execution_count": 30,
   "metadata": {},
   "outputs": [
    {
     "name": "stdout",
     "output_type": "stream",
     "text": [
      "9\n"
     ]
    }
   ],
   "source": [
    "# Inicializando uma variável 'total13' com valor zero\n",
    "total13 = 0\n",
    "\n",
    "# Iterando sobre uma sequência de números usando um loop for\n",
    "# Utiliza a função range(1, 8) para gerar números de 1 até 7 (o limite superior não é incluído)\n",
    "\n",
    "for i in range(1, 8):\n",
    "    # Verificando se o número é divisível por 3\n",
    "    if i % 3 == 0:\n",
    "        # Adicionando o número à variável 'total13' se for divisível por 3\n",
    "        total13 += i\n",
    "\n",
    "# Imprimindo o resultado da soma dos números divisíveis por 3\n",
    "print(total13)\n"
   ]
  },
  {
   "cell_type": "markdown",
   "metadata": {},
   "source": [
    "### Explicações detalhadas:\n",
    "\n",
    "\n",
    "1. total13 = 0: Inicializa a variável total13 com valor zero. Essa variável será utilizada para armazenar a soma dos números divisíveis por 3 na sequência.\n",
    "\n",
    "2. for i in range(1, 8): Inicia um loop for que itera sobre uma sequência de números gerada pela função range(1, 8). A sequência inclui números de 1 até 7 (o limite superior não é incluído).\n",
    "\n",
    "\n",
    "3. if i % 3 == 0: Verifica se o número atual i é divisível por 3 usando o operador % (módulo). Se o resto da divisão por 3 for zero, significa que o número é divisível por 3.\n",
    "\n",
    "4. total13 += i: Adiciona o número à variável total13 se o número for divisível por 3.\n",
    "\n",
    "5. print(total13): Imprime o resultado final da soma dos números divisíveis por 3 na sequência. Neste exemplo, a saída seria 9, que é a soma de 3 e 6.\n",
    "\n",
    "Este código realiza a soma dos números de 1 a 7 que são divisíveis por 3 e imprime o resultado final. "
   ]
  },
  {
   "cell_type": "code",
   "execution_count": 32,
   "metadata": {},
   "outputs": [
    {
     "name": "stdout",
     "output_type": "stream",
     "text": [
      "[1, 2, 3, 4, 5, 6, 7, 8, 9, 10, 11, 12, 13, 14, 15, 16, 17, 18, 19, 20, 21, 22, 23, 24, 25, 26, 27, 28, 29, 30, 31, 32, 33, 34, 35, 36, 37, 38, 39, 40, 41, 42, 43, 44, 45, 46, 47, 48, 49, 50, 51, 52, 53, 54, 55, 56, 57, 58, 59, 60, 61, 62, 63, 64, 65, 66, 67, 68, 69, 70, 71, 72, 73, 74, 75, 76, 77, 78, 79, 80, 81, 82, 83, 84, 85, 86, 87, 88, 89, 90, 91, 92, 93, 94, 95, 96, 97, 98, 99]\n"
     ]
    }
   ],
   "source": [
    "print(list(range(1, 100)))"
   ]
  },
  {
   "cell_type": "markdown",
   "metadata": {},
   "source": [
    "Você pode adaptar o código para calcular os múltiplos de 3 e 5 utilizando uma condição dentro do loop. Aqui está um exemplo:"
   ]
  },
  {
   "cell_type": "code",
   "execution_count": 33,
   "metadata": {},
   "outputs": [
    {
     "name": "stdout",
     "output_type": "stream",
     "text": [
      "[3, 5, 6, 9, 10, 12, 15, 18, 20, 21, 24, 25, 27, 30, 33, 35, 36, 39, 40, 42, 45, 48, 50, 51, 54, 55, 57, 60, 63, 65, 66, 69, 70, 72, 75, 78, 80, 81, 84, 85, 87, 90, 93, 95, 96, 99]\n"
     ]
    }
   ],
   "source": [
    "# Inicializando uma lista para armazenar os múltiplos de 3 ou 5\n",
    "multiplos_3_5 = []\n",
    "\n",
    "# Iterando sobre uma sequência de números usando um loop for\n",
    "# Utiliza a função range(1, 100) para gerar números de 1 até 99\n",
    "for i in range(1, 100):\n",
    "    # Verificando se o número é múltiplo de 3 ou 5\n",
    "    if i % 3 == 0 or i % 5 == 0:\n",
    "        # Adicionando o número à lista de múltiplos de 3 ou 5\n",
    "        multiplos_3_5.append(i)\n",
    "\n",
    "# Imprimindo a lista de múltiplos de 3 ou 5\n",
    "print(multiplos_3_5)\n"
   ]
  },
  {
   "cell_type": "markdown",
   "metadata": {},
   "source": [
    "### Explicações detalhadas:\n",
    "\n",
    "1. multiplos_3_5 = []: Inicializa uma lista vazia para armazenar os múltiplos de 3 ou 5.\n",
    "\n",
    "2. for i in range(1, 100): Inicia um loop for que itera sobre uma sequência de números gerada pela função range(1, 100). A sequência inclui números de 1 até 99.\n",
    "\n",
    "3. if i % 3 == 0 or i % 5 == 0:: Verifica se o número atual i é múltiplo de 3 ou 5 usando os operadores % (módulo). \n",
    "\n",
    "Se o resto da divisão por 3 ou por 5 for zero, significa que o número é múltiplo de 3 ou 5.\n",
    "\n",
    "4. multiplos_3_5.append(i): Adiciona o número à lista multiplos_3_5 se for múltiplo de 3 ou 5.\n",
    "\n",
    "5. print(multiplos_3_5): Imprime a lista de múltiplos de 3 ou 5.\n",
    "\n",
    "Este código calculará e imprimirá todos os múltiplos de 3 ou 5 no intervalo de 1 a 99. "
   ]
  },
  {
   "cell_type": "markdown",
   "metadata": {},
   "source": [
    "# Loops e Range (Continuação)\n",
    "\n"
   ]
  },
  {
   "cell_type": "markdown",
   "metadata": {},
   "source": []
  }
 ],
 "metadata": {
  "kernelspec": {
   "display_name": "base",
   "language": "python",
   "name": "python3"
  },
  "language_info": {
   "codemirror_mode": {
    "name": "ipython",
    "version": 3
   },
   "file_extension": ".py",
   "mimetype": "text/x-python",
   "name": "python",
   "nbconvert_exporter": "python",
   "pygments_lexer": "ipython3",
   "version": "3.11.5"
  }
 },
 "nbformat": 4,
 "nbformat_minor": 2
}
