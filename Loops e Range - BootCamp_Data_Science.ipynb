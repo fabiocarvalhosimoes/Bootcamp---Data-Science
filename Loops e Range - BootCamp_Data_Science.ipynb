{
 "cells": [
  {
   "cell_type": "markdown",
   "metadata": {},
   "source": [
    "<div align=\"center\">\n",
    "  <h1>\"Loops e Range\"</h1>\n",
    "</div>\n",
    "\n",
    "\n",
    "O que vamos aprender?\n",
    "\n",
    "1. While loop\n",
    "2. For loop\n",
    "3. Enumerate\n",
    "4.Range\n",
    "\n",
    "\n",
    "### Loops\n",
    "\n",
    "\n",
    "- Um loop é uma sequência de instruções repetidas continuamente até que uma condição específica seja atingida.\n",
    "- Pense em um professor tendo assiduidade. O professor chama um nome, e o aluno responde presente.\n",
    "- O professor vai analisando a lista de alunos um a um e chamando um nome para verificar \"presente\" se o aluno estiver presente, ou \"<<silêncio>>\" se ele estiver ausente.\n",
    "- Esse processo só terminará quando toda a lista de alunos for concluída. Esta será a condição que sairá do circuito.\n",
    "\n",
    "\n",
    "#### Vejamos os tipos de loops em Python abaixo!"
   ]
  },
  {
   "cell_type": "code",
   "execution_count": null,
   "metadata": {},
   "outputs": [],
   "source": [
    "a = [\"banana\", \"Macã\", \"Microsoft\"]\n"
   ]
  },
  {
   "cell_type": "code",
   "execution_count": null,
   "metadata": {},
   "outputs": [
    {
     "name": "stdout",
     "output_type": "stream",
     "text": [
      "banana\n",
      "Macã\n",
      "Microsoft\n"
     ]
    }
   ],
   "source": [
    "print(a[0])\n",
    "print(a[1])\n",
    "print(a[2])"
   ]
  },
  {
   "cell_type": "code",
   "execution_count": null,
   "metadata": {},
   "outputs": [
    {
     "name": "stdout",
     "output_type": "stream",
     "text": [
      "banana\n",
      "banana\n",
      "Macã\n",
      "Macã\n",
      "Microsoft\n",
      "Microsoft\n"
     ]
    }
   ],
   "source": [
    "for element in a:\n",
    "  print(element)\n",
    "  print(element)\n"
   ]
  },
  {
   "cell_type": "code",
   "execution_count": null,
   "metadata": {},
   "outputs": [
    {
     "name": "stdout",
     "output_type": "stream",
     "text": [
      "20\n",
      "10\n",
      "5\n"
     ]
    }
   ],
   "source": [
    "# Definindo uma lista chamada 'b' com três elementos inteiros\n",
    "\n",
    "b = [20, 10, 5]\n",
    "\n",
    "# Iterando sobre cada elemento 'e' na lista 'b'\n",
    "\n",
    "for e in b:\n",
    "\n",
    "    # Imprimindo o valor do elemento 'e' em cada iteração do loop\n",
    "    \n",
    "    print(e)\n"
   ]
  },
  {
   "cell_type": "markdown",
   "metadata": {},
   "source": [
    "### Explicações detalhadas:\n",
    "\n",
    "1. b = [20, 10, 5]: Cria uma lista chamada 'b' com três elementos: 20, 10 e 5.\n",
    "\n",
    "2. for e in b: Inicia um loop que itera sobre cada elemento 'e' na lista 'b'.\n",
    "\n",
    "3. print(e): Imprime o valor do elemento 'e' em cada iteração do loop. Isso resultará na impressão dos elementos 20, 10 e 5 em linhas separadas, pois o comando print adiciona automaticamente uma quebra de linha após cada chamada.\n",
    "\n",
    "Portanto, o código percorre os elementos da lista 'b' e imprime cada um deles em linhas separadas.\n",
    "\n",
    "\n"
   ]
  },
  {
   "cell_type": "code",
   "execution_count": null,
   "metadata": {},
   "outputs": [
    {
     "name": "stdout",
     "output_type": "stream",
     "text": [
      "O total é: 35\n"
     ]
    }
   ],
   "source": [
    "# Definindo uma lista chamada 'b' com três elementos inteiros\n",
    "\n",
    "b = [20, 10, 5]\n",
    "\n",
    "# Inicializando uma variável chamada 'total' com o valor zero\n",
    "\n",
    "total = 0\n",
    "\n",
    "# Iterando sobre cada elemento 'e' na lista 'b'\n",
    "\n",
    "for e in b:\n",
    "\n",
    "    # Adicionando o valor do elemento 'e' à variável 'total'\n",
    "\n",
    "    total = total + e\n",
    "\n",
    "# Imprimindo o resultado após o loop\n",
    "    \n",
    "print(\"O total é:\", total)\n",
    "\n"
   ]
  },
  {
   "cell_type": "markdown",
   "metadata": {},
   "source": [
    "### Explicações detalhadas:\n",
    "\n",
    "1. b = [20, 10, 5]: Cria uma lista chamada 'b' com três elementos: 20, 10 e 5.\n",
    "\n",
    "2. total = 0: Inicializa uma variável chamada 'total' com o valor zero. Essa variável será usada para armazenar a soma dos elementos da lista.\n",
    "\n",
    "3. for e in b:: Inicia um loop que itera sobre cada elemento 'e' na lista 'b'.\n",
    "\n",
    "4. total = total + e: Adiciona o valor do elemento 'e' à variável 'total' em cada iteração do loop.\n",
    "\n",
    "5. print(\"O total é:\", total): Imprime o resultado após o loop, exibindo a mensagem \"O total é:\" seguida do valor final da variável 'total'.\n",
    "\n",
    "Este código realiza a soma dos elementos da lista e imprime o resultado final. Ao executar, você verá a mensagem \"O total é: 35\", que é a soma de 20, 10 e 5."
   ]
  },
  {
   "cell_type": "markdown",
   "metadata": {},
   "source": [
    "### Iteração em Python:\n",
    "\n",
    "A iteração refere-se à repetição de um conjunto de instruções ou operações várias vezes. Em Python, você frequentemente encontra a necessidade de percorrer todos os itens em uma sequência, como uma lista, tupla ou string. Para isso, você usa estruturas de controle de fluxo, como loops.\n",
    "\n",
    "Exemplo prático:\n",
    "\n",
    "Vamos considerar o código que você forneceu:\n",
    "\n",
    "\n",
    "- b = [20, 10, 5]\n",
    "- for e in b:\n",
    "  \n",
    "    print(e)\n",
    "\n",
    "    \n",
    "Aqui, b é uma lista contendo três números (20, 10, 5). A palavra-chave for inicia um loop que percorre cada elemento da lista b. A variável e é uma espécie de \"placeholder\" que representa cada elemento da lista durante cada iteração do loop.\n",
    "\n",
    "Durante a primeira iteração, e será igual a 20, na segunda iteração será igual a 10 e, finalmente, na terceira iteração, será igual a 5. A função print(e) exibe o valor atual de e a cada iteração em uma linha separada.\n",
    "\n",
    "Portanto, a iteração permite que você execute um bloco de código para cada item em uma sequência, tornando mais fácil lidar com grandes conjuntos de dados, realizar cálculos repetitivos, entre outras tarefas."
   ]
  },
  {
   "cell_type": "code",
   "execution_count": null,
   "metadata": {},
   "outputs": [
    {
     "name": "stdout",
     "output_type": "stream",
     "text": [
      "[1, 2, 3, 4]\n"
     ]
    }
   ],
   "source": [
    "# c = list(range(1, 5)): Utiliza a função range para gerar uma sequência de números de 1 a 4 e, em seguida\n",
    "# converte essa sequência em uma lista. \n",
    "# A variável 'c' armazena essa lista.\n",
    "\n",
    "c = list(range(1, 5))\n",
    "\n",
    "# Imprimindo a lista 'c' após sua criação\n",
    "\n",
    "print(c)\n"
   ]
  },
  {
   "cell_type": "code",
   "execution_count": null,
   "metadata": {},
   "outputs": [
    {
     "ename": "IndentationError",
     "evalue": "expected an indented block after 'for' statement on line 1 (2280909363.py, line 2)",
     "output_type": "error",
     "traceback": [
      "\u001b[1;36m  Cell \u001b[1;32mIn[18], line 2\u001b[1;36m\u001b[0m\n\u001b[1;33m    print (i)\u001b[0m\n\u001b[1;37m    ^\u001b[0m\n\u001b[1;31mIndentationError\u001b[0m\u001b[1;31m:\u001b[0m expected an indented block after 'for' statement on line 1\n"
     ]
    }
   ],
   "source": [
    "for i in range(1, 5):\n",
    "print (i)"
   ]
  },
  {
   "cell_type": "markdown",
   "metadata": {},
   "source": [
    "Esse erro \"IndentationError\" ocorre quando a indentação do código não está correta. Em Python, a indentação é fundamental para indicar blocos de código, como loops, condicionais e funções."
   ]
  },
  {
   "cell_type": "code",
   "execution_count": null,
   "metadata": {},
   "outputs": [
    {
     "name": "stdout",
     "output_type": "stream",
     "text": [
      "1\n",
      "2\n",
      "3\n",
      "4\n"
     ]
    }
   ],
   "source": [
    "# Iterando sobre uma sequência de números usando um loop for\n",
    "\n",
    "for i in range(1, 5):\n",
    "\n",
    "    # Imprimindo cada número na sequência\n",
    "    \n",
    "    print(i)\n"
   ]
  },
  {
   "cell_type": "markdown",
   "metadata": {},
   "source": [
    "### Explicações detalhadas:\n",
    "\n",
    "\n",
    "1. for i in range(1, 5): Inicia um loop for que itera sobre uma sequência de números gerada pela função range(1, 5). A sequência inclui números de 1 até 4 (o limite superior não é incluído).\n",
    "\n",
    "2. print(i): Imprime cada número na sequência. A variável i representa o elemento atual da iteração no loop for.\n",
    "\n",
    "Assim, o código itera sobre os números de 1 a 4 e imprime cada número em linhas separadas. "
   ]
  },
  {
   "cell_type": "code",
   "execution_count": null,
   "metadata": {},
   "outputs": [
    {
     "name": "stdout",
     "output_type": "stream",
     "text": [
      "10\n"
     ]
    }
   ],
   "source": [
    "# Inicializando uma variável 'total12' com valor zero\n",
    "\n",
    "total12 = 0\n",
    "\n",
    "# Iterando sobre uma sequência de números usando um loop for\n",
    "# Utiliza a função range(1, 5) para gerar números de 1 até 4 (o limite superior não é incluído)\n",
    "\n",
    "for i in range(1, 5):\n",
    "\n",
    "    # Adicionando cada número da sequência à variável 'total12'\n",
    "    \n",
    "    total12 += i\n",
    "\n",
    "# Imprimindo o resultado da soma\n",
    "\n",
    "print(total12)\n"
   ]
  },
  {
   "cell_type": "markdown",
   "metadata": {},
   "source": [
    "### Explicações detalhadas:\n",
    "\n",
    "\n",
    "1. total12 = 0: Inicializa a variável total12 com valor zero. Essa variável será utilizada para armazenar a soma dos números da sequência.\n",
    "\n",
    "2. for i in range(1, 5): Inicia um loop for que itera sobre uma sequência de números gerada pela função range(1, 5). A sequência inclui números de 1 até 4 (o limite superior não é incluído).\n",
    "\n",
    "3. total12 += i: Adiciona cada número da sequência à variável total12 durante cada iteração do loop.\n",
    "  \n",
    "4. print(total12): Imprime o resultado final da soma dos números da sequência. Neste exemplo, a saída seria 10, que é a soma de 1 + 2 + 3 + 4.\n",
    "\n",
    "Este código realiza a soma dos números de 1 a 4 e imprime o resultado final. "
   ]
  },
  {
   "cell_type": "code",
   "execution_count": null,
   "metadata": {},
   "outputs": [
    {
     "name": "stdout",
     "output_type": "stream",
     "text": [
      "[1, 2, 3, 4, 5, 6, 7]\n"
     ]
    }
   ],
   "source": [
    "# Imprimindo uma lista gerada pela função range\n",
    "# A função range(1, 8) gera uma sequência de números de 1 até 7 (o limite superior não é incluído)\n",
    "\n",
    "print(list(range(1, 8)))\n"
   ]
  },
  {
   "cell_type": "markdown",
   "metadata": {},
   "source": [
    "### Explicações detalhadas:\n",
    "\n",
    "\n",
    "1. range(1, 8): Utiliza a função range para gerar uma sequência de números de 1 até 7 (o limite superior não é incluído). A função range cria um objeto de sequência, e ao envolvê-lo com list(), convertemos essa sequência em uma lista.\n",
    "\n",
    "2. print(list(range(1, 8))): Imprime a lista gerada pela função range(1, 8). \n",
    "3. A saída será [1, 2, 3, 4, 5, 6, 7], que são os números de 1 a 7 inclusivos.\n",
    "\n",
    "Portanto, este código gera uma lista de números de 1 a 7 e a imprime."
   ]
  },
  {
   "cell_type": "code",
   "execution_count": null,
   "metadata": {},
   "outputs": [
    {
     "name": "stdout",
     "output_type": "stream",
     "text": [
      "9\n"
     ]
    }
   ],
   "source": [
    "# Inicializando uma variável 'total13' com valor zero\n",
    "total13 = 0\n",
    "\n",
    "# Iterando sobre uma sequência de números usando um loop for\n",
    "# Utiliza a função range(1, 8) para gerar números de 1 até 7 (o limite superior não é incluído)\n",
    "\n",
    "for i in range(1, 8):\n",
    "    # Verificando se o número é divisível por 3\n",
    "    if i % 3 == 0:\n",
    "        # Adicionando o número à variável 'total13' se for divisível por 3\n",
    "        total13 += i\n",
    "\n",
    "# Imprimindo o resultado da soma dos números divisíveis por 3\n",
    "print(total13)\n"
   ]
  },
  {
   "cell_type": "markdown",
   "metadata": {},
   "source": [
    "### Explicações detalhadas:\n",
    "\n",
    "\n",
    "1. total13 = 0: Inicializa a variável total13 com valor zero. Essa variável será utilizada para armazenar a soma dos números divisíveis por 3 na sequência.\n",
    "\n",
    "2. for i in range(1, 8): Inicia um loop for que itera sobre uma sequência de números gerada pela função range(1, 8). A sequência inclui números de 1 até 7 (o limite superior não é incluído).\n",
    "\n",
    "\n",
    "3. if i % 3 == 0: Verifica se o número atual i é divisível por 3 usando o operador % (módulo). Se o resto da divisão por 3 for zero, significa que o número é divisível por 3.\n",
    "\n",
    "4. total13 += i: Adiciona o número à variável total13 se o número for divisível por 3.\n",
    "\n",
    "5. print(total13): Imprime o resultado final da soma dos números divisíveis por 3 na sequência. Neste exemplo, a saída seria 9, que é a soma de 3 e 6.\n",
    "\n",
    "Este código realiza a soma dos números de 1 a 7 que são divisíveis por 3 e imprime o resultado final. "
   ]
  },
  {
   "cell_type": "code",
   "execution_count": null,
   "metadata": {},
   "outputs": [
    {
     "name": "stdout",
     "output_type": "stream",
     "text": [
      "[1, 2, 3, 4, 5, 6, 7, 8, 9, 10, 11, 12, 13, 14, 15, 16, 17, 18, 19, 20, 21, 22, 23, 24, 25, 26, 27, 28, 29, 30, 31, 32, 33, 34, 35, 36, 37, 38, 39, 40, 41, 42, 43, 44, 45, 46, 47, 48, 49, 50, 51, 52, 53, 54, 55, 56, 57, 58, 59, 60, 61, 62, 63, 64, 65, 66, 67, 68, 69, 70, 71, 72, 73, 74, 75, 76, 77, 78, 79, 80, 81, 82, 83, 84, 85, 86, 87, 88, 89, 90, 91, 92, 93, 94, 95, 96, 97, 98, 99]\n"
     ]
    }
   ],
   "source": [
    "print(list(range(1, 100)))"
   ]
  },
  {
   "cell_type": "markdown",
   "metadata": {},
   "source": [
    "Você pode adaptar o código para calcular os múltiplos de 3 e 5 utilizando uma condição dentro do loop. Aqui está um exemplo:"
   ]
  },
  {
   "cell_type": "code",
   "execution_count": null,
   "metadata": {},
   "outputs": [
    {
     "name": "stdout",
     "output_type": "stream",
     "text": [
      "[3, 5, 6, 9, 10, 12, 15, 18, 20, 21, 24, 25, 27, 30, 33, 35, 36, 39, 40, 42, 45, 48, 50, 51, 54, 55, 57, 60, 63, 65, 66, 69, 70, 72, 75, 78, 80, 81, 84, 85, 87, 90, 93, 95, 96, 99]\n"
     ]
    }
   ],
   "source": [
    "# Inicializando uma lista para armazenar os múltiplos de 3 ou 5\n",
    "multiplos_3_5 = []\n",
    "\n",
    "# Iterando sobre uma sequência de números usando um loop for\n",
    "# Utiliza a função range(1, 100) para gerar números de 1 até 99\n",
    "for i in range(1, 100):\n",
    "    # Verificando se o número é múltiplo de 3 ou 5\n",
    "    if i % 3 == 0 or i % 5 == 0:\n",
    "        # Adicionando o número à lista de múltiplos de 3 ou 5\n",
    "        multiplos_3_5.append(i)\n",
    "\n",
    "# Imprimindo a lista de múltiplos de 3 ou 5\n",
    "print(multiplos_3_5)\n"
   ]
  },
  {
   "cell_type": "markdown",
   "metadata": {},
   "source": [
    "### Explicações detalhadas:\n",
    "\n",
    "1. multiplos_3_5 = []: Inicializa uma lista vazia para armazenar os múltiplos de 3 ou 5.\n",
    "\n",
    "2. for i in range(1, 100): Inicia um loop for que itera sobre uma sequência de números gerada pela função range(1, 100). A sequência inclui números de 1 até 99.\n",
    "\n",
    "3. if i % 3 == 0 or i % 5 == 0:: Verifica se o número atual i é múltiplo de 3 ou 5 usando os operadores % (módulo). \n",
    "\n",
    "Se o resto da divisão por 3 ou por 5 for zero, significa que o número é múltiplo de 3 ou 5.\n",
    "\n",
    "4. multiplos_3_5.append(i): Adiciona o número à lista multiplos_3_5 se for múltiplo de 3 ou 5.\n",
    "\n",
    "5. print(multiplos_3_5): Imprime a lista de múltiplos de 3 ou 5.\n",
    "\n",
    "Este código calculará e imprimirá todos os múltiplos de 3 ou 5 no intervalo de 1 a 99. "
   ]
  },
  {
   "attachments": {
    "image.png": {
     "image/png": "[encoded data removed]"
    }
   },
   "cell_type": "markdown",
   "metadata": {},
   "source": [
    "# Loops e Range (Continuação)\n",
    "\n",
    "- \"For loop\" é usado para iterar sobre uma sequência (que pode ser qualquer estrutura de dados - lista/tuplas ou até mesmo uma cadeia de caracteres)\n",
    "- Iteração significa executar uma ação repetidamente\n",
    "- Sintaxe:\n",
    "  \n",
    "  ![image.png](attachment:image.png)\n",
    "\n",
    "- O que significa \"para cada variável em sequência, execute a expressão\"\n",
    "- Python usa recuo como seu método de agrupamento de instruções. Assim, todas as instruções com o mesmo recuo serão consideradas dentro do loop for.\n"
   ]
  },
  {
   "cell_type": "markdown",
   "metadata": {},
   "source": [
    "### Fazendo um loop através de uma lista\n",
    "\n",
    "- Exemplo:\n",
    "  \n",
    "Digamos que desejamos armazenar as alturas dos membros de nossa família em uma lista e imprimi-las uma a uma"
   ]
  },
  {
   "cell_type": "code",
   "execution_count": null,
   "metadata": {},
   "outputs": [
    {
     "name": "stdout",
     "output_type": "stream",
     "text": [
      "1.73\n",
      "1.68\n",
      "1.71\n",
      "1.89\n"
     ]
    }
   ],
   "source": [
    "# Inicializando uma lista 'fam_heights' com alturas de membros da família\n",
    "fam_heights = [1.73, 1.68, 1.71, 1.89]\n",
    "\n",
    "# Iterando sobre os elementos da lista 'fam_heights' usando um loop for\n",
    "for height in fam_heights:\n",
    "    # Imprimindo cada altura na lista\n",
    "    print(height)\n"
   ]
  },
  {
   "cell_type": "markdown",
   "metadata": {},
   "source": [
    "### Explicações detalhadas:\n",
    "\n",
    "\n",
    "\n",
    "1. fam_heights = [1.73, 1.68, 1.71, 1.89]: Inicializa a lista fam_heights com os valores das alturas dos membros da família.\n",
    "\n",
    "2. **for height in fam_heights**: Inicia um loop for que itera sobre cada elemento da lista fam_heights. \n",
    "Durante cada iteração, o valor do elemento é atribuído à variável height.\n",
    "\n",
    "\n",
    "3. **print(height):** Imprime cada altura na lista. \n",
    "A variável height representa o elemento atual da iteração no loop.\n",
    "\n",
    "   Este código percorre a lista fam_heights e imprime cada altura em linhas separadas. "
   ]
  },
  {
   "cell_type": "markdown",
   "metadata": {},
   "source": [
    "### Fazendo um looping através de uma cadeia de caracteres\n",
    "\n",
    "\n",
    "- Mesmo cadeias de caracteres são objetos iteráveis; Eles contêm uma sequência de caracteres:"
   ]
  },
  {
   "cell_type": "code",
   "execution_count": null,
   "metadata": {},
   "outputs": [
    {
     "name": "stdout",
     "output_type": "stream",
     "text": [
      "a\n",
      "p\n",
      "l\n",
      "e\n"
     ]
    }
   ],
   "source": [
    "# Iterando sobre cada caractere na string \"aple\" usando um loop for\n",
    "for i in \"aple\":\n",
    "    # Imprimindo cada caractere\n",
    "    print(i)\n"
   ]
  },
  {
   "cell_type": "markdown",
   "metadata": {},
   "source": [
    "### Explicações detalhadas:\n",
    "\n",
    "\n",
    "1. **for i in \"aple\":** Inicia um loop for que itera sobre cada caractere na string \"aple\". \n",
    "Durante cada iteração, o valor do caractere é atribuído à variável i.\n",
    "\n",
    "2. **print(i):** Imprime cada caractere na string.\n",
    "A variável i representa o caractere atual da iteração no loop.\n",
    "\n",
    "  Este código percorre a string \"aple\" e imprime cada caractere em linhas separadas.  "
   ]
  },
  {
   "cell_type": "code",
   "execution_count": null,
   "metadata": {},
   "outputs": [
    {
     "name": "stdout",
     "output_type": "stream",
     "text": [
      "F\n",
      "A\n",
      "M\n",
      "I\n",
      "L\n",
      "Y\n"
     ]
    }
   ],
   "source": [
    "# Iterando sobre cada caractere na string \"family\" usando um loop for\n",
    "for c in \"family\":\n",
    "    # Imprimindo cada caractere após aplicar a função capitalize()\n",
    "    print(c.capitalize())\n"
   ]
  },
  {
   "cell_type": "markdown",
   "metadata": {},
   "source": [
    "### Explicações detalhadas:\n",
    "\n",
    "\n",
    "1. **for c in \"family\":** Inicia um loop for que itera sobre cada caractere na string \"family\".\n",
    "Durante cada iteração, o valor do caractere é atribuído à variável c.\n",
    "\n",
    "\n",
    "2. **print(c.capitalize()):** Imprime cada caractere após aplicar a função capitalize(). \n",
    "\n",
    "3. A função capitalize() converte todos caracteres de uma string para maiúsculo.\n",
    "\n",
    "Este código percorre a string \"family\", aplica capitalize() a cada caractere individualmente e imprime o resultado em linhas separadas."
   ]
  },
  {
   "cell_type": "code",
   "execution_count": null,
   "metadata": {},
   "outputs": [
    {
     "name": "stdout",
     "output_type": "stream",
     "text": [
      "Family\n"
     ]
    }
   ],
   "source": [
    "# Iterando sobre cada palavra na string \"family\" usando um loop for\n",
    "for word in \"family\".split():\n",
    "    # Imprimindo cada palavra após aplicar a função title()\n",
    "    print(word.title())\n"
   ]
  },
  {
   "cell_type": "markdown",
   "metadata": {},
   "source": [
    "### Explicações detalhadas:\n",
    "\n",
    "\n",
    "1. **for word in \"family\".split():** Inicia um loop for que itera sobre cada palavra na string \"family\". Utiliza split() para dividir a string em palavras.\n",
    "\n",
    "2. **print(word.title()):** Imprime cada palavra após aplicar a função title(). A função title() converte o primeiro caractere de cada palavra para maiúsculo e os caracteres restantes para minúsculo.\n",
    "\n",
    "Com esta modificação, o código irá imprimir cada palavra da string \"family\" com a primeira letra em maiúsculo e as letras subsequentes em minúsculo. "
   ]
  },
  {
   "cell_type": "code",
   "execution_count": null,
   "metadata": {},
   "outputs": [
    {
     "name": "stdout",
     "output_type": "stream",
     "text": [
      "f\n",
      "a\n",
      "m\n",
      "i\n",
      "l\n",
      "y\n"
     ]
    }
   ],
   "source": [
    "# Iterando sobre cada caractere na string \"family\" usando um loop for\n",
    "for char in \"family\":\n",
    "    # Imprimindo cada caractere em minúsculas\n",
    "    print(char.lower())\n"
   ]
  },
  {
   "cell_type": "markdown",
   "metadata": {},
   "source": [
    "### Explicações detalhadas:\n",
    "\n",
    "\n",
    "1. **for char in \"family\":** Inicia um loop for que itera sobre cada caractere na string \"family\". Durante cada iteração, o valor do caractere é atribuído à variável char.\n",
    "   \n",
    "\n",
    "2. **print(char.lower()):** Imprime cada caractere em minúsculas usando a função lower().\n",
    "\n",
    "\n",
    "Este código imprimirá cada letra da string \"family\" em linhas separadas, em minúsculas.  "
   ]
  },
  {
   "cell_type": "markdown",
   "metadata": {},
   "source": [
    "# Enumerate\n",
    "\n",
    "1. Com o loop for, você pode imprimir as alturas dos membros da sua família.\n",
    "\n",
    "2. Mas e se você também quiser acessar o índice de cada elemento da lista? \n",
    "\n",
    "Aqui é onde a função enumerar entra em jogo.\n",
    "\n",
    "3. A função enumerate itera sobre os elementos de uma lista e associa um índice a eles. \n",
    "\n",
    "Você precisa usar duas variáveis (índice e altura, neste caso) para armazenar os valores fornecidos por enumerar."
   ]
  },
  {
   "cell_type": "code",
   "execution_count": null,
   "metadata": {},
   "outputs": [
    {
     "name": "stdout",
     "output_type": "stream",
     "text": [
      "index0 : 1.73\n",
      "index1 : 1.68\n",
      "index2 : 1.71\n",
      "index3 : 1.89\n"
     ]
    }
   ],
   "source": [
    "# Iterando sobre índices e valores na lista 'fam_heights' usando a função enumerate\n",
    "for index, height in enumerate(fam_heights):\n",
    "    # Imprimindo o índice e o valor correspondente\n",
    "    print(\"index\" + str(index) + \" : \" + str(height))\n"
   ]
  },
  {
   "cell_type": "markdown",
   "metadata": {},
   "source": [
    "### Explicações detalhadas:\n",
    "\n",
    "1. **for index, height in enumerate(fam_heights):** Inicia um loop for que utiliza a função enumerate para obter tanto o índice como o valor correspondente de cada elemento na lista 'fam_heights'. \n",
    "\n",
    "Durante cada iteração, os valores são atribuídos às variáveis index e height.\n",
    "\n",
    "2. **print(\"index\" + str(index) + \" : \" + str(height)):** Imprime uma string formatada contendo o índice e o valor correspondente. \n",
    "\n",
    "Os valores são convertidos para strings usando str() para concatená-los à string principal.\n",
    "\n",
    "Este código imprimirá o índice e o valor correspondente de cada elemento na lista 'fam_heights'. \n",
    "\n",
    "\n",
    "\n",
    "\n",
    "\n"
   ]
  },
  {
   "cell_type": "markdown",
   "metadata": {},
   "source": [
    "\n",
    "<div align=\"center\">\n",
    "  <h1>\"Um pouco de Prática!!!\"</h1>\n",
    "</div>"
   ]
  },
  {
   "cell_type": "code",
   "execution_count": null,
   "metadata": {},
   "outputs": [
    {
     "name": "stdout",
     "output_type": "stream",
     "text": [
      "10\n"
     ]
    }
   ],
   "source": [
    "# Inicializando uma variável 'total' com valor zero\n",
    "total = 0\n",
    "\n",
    "# Iterando sobre uma sequência de números usando um loop for\n",
    "# Utiliza a função range(1, 5) para gerar números de 1 até 4 (o limite superior não é incluído)\n",
    "for i in range(1, 5):\n",
    "    # Adicionando cada número da sequência à variável 'total'\n",
    "    total += i\n",
    "\n",
    "# Imprimindo o resultado da soma\n",
    "print(total)\n"
   ]
  },
  {
   "cell_type": "markdown",
   "metadata": {},
   "source": [
    "Neste caso, total += i é equivalente a total = total + i. A cada iteração do loop, o valor de i é adicionado ao valor atual de total, atualizando assim o valor de total. No final do loop, total conterá a soma de todos os valores de i no intervalo de 1 a 4.\n",
    "\n",
    "O uso de += é uma forma concisa e legível de expressar operações de adição cumulativa e é comumente utilizada em situações onde você deseja atualizar o valor de uma variável com base em seu valor atual."
   ]
  },
  {
   "cell_type": "code",
   "execution_count": null,
   "metadata": {},
   "outputs": [
    {
     "name": "stdout",
     "output_type": "stream",
     "text": [
      "4\n"
     ]
    }
   ],
   "source": [
    "# Inicializando uma variável 'total12' com valor zero\n",
    "total12 = 0\n",
    "\n",
    "# Atribuindo o valor de 'i' à variável 'j'\n",
    "j = i\n",
    "\n",
    "# Utilizando um loop while para realizar a soma cumulativa\n",
    "# Enquanto 'j' for menor que 5, a operação dentro do loop será executada\n",
    "while j < 5:\n",
    "    # Adicionando o valor de 'i' à variável 'total12'\n",
    "    total12 += i\n",
    "\n",
    "    # Incrementando o valor de 'j' para evitar um loop infinito\n",
    "    j += 1\n",
    "\n",
    "# Imprimindo o resultado final da soma\n",
    "print(total12)\n",
    "\n"
   ]
  },
  {
   "cell_type": "markdown",
   "metadata": {},
   "source": [
    "### Explicações detalhadas:\n",
    "\n",
    "\n",
    "\n",
    "1. **total12 = 0:** Inicializa a variável total12 com valor zero. Essa variável será utilizada para armazenar a soma cumulativa.\n",
    "\n",
    "2. **j = i:** Atribui o valor de i à variável j.\n",
    "\n",
    "3. **while j < 5:** Inicia um loop while que executa enquanto a condição j < 5 for verdadeira.\n",
    "\n",
    "4. **total12 += i:** Adiciona o valor de i à variável total12 durante cada iteração do loop.\n",
    "\n",
    "5. **j += 1:** Incrementa o valor de j em 1 a cada iteração do loop.\n",
    "\n",
    "6. **print(total12):** Imprime o resultado final da soma cumulativa. Este código realizará a soma cumulativa de i enquanto j for menor que 5.\n",
    "\n",
    "\n",
    "## Vamos simplificar isso para tornar mais compreensível\n",
    "\n",
    "Vamos imaginar que você está fazendo um bolo! Você tem uma tigela vazia (chamada \"total12\") e você quer colocar algumas cerejas (chamadas \"i\") na tigela.\n",
    "\n",
    "### Sua tarefa é colocar cerejas na tigela até ter cinco delas:\n",
    "\n",
    "1. Comece com uma tigela vazia (total12 = 0 cerejas).\n",
    "\n",
    "2. Pegue uma cereja (\"i\") e coloque na tigela.\n",
    "   \n",
    "3. Veja quantas cerejas você tem agora (total12).\n",
    "\n",
    "4. Se você tem menos de cinco cerejas, repita os passos 2 e 3.\n",
    "\n",
    "5. Continue pegando uma cereja de cada vez e adicionando à tigela até que tenha cinco cerejas no total.\n",
    "\n",
    "6. Finalmente, conte quantas cerejas estão na tigela agora e diga o número.\n",
    "\n",
    "\n",
    "- Então, se tentarmos isso com \"i\" sendo um número qualquer, o programa (ou nosso jogo com brinquedos) faz isso em um loop até que tenhamos cinco brinquedos no total. E, no final, ele nos diz quantos brinquedos temos.\n",
    "\n",
    "Espero que isso torne mais fácil de entender! "
   ]
  },
  {
   "cell_type": "code",
   "execution_count": null,
   "metadata": {},
   "outputs": [
    {
     "name": "stdout",
     "output_type": "stream",
     "text": [
      "10\n"
     ]
    }
   ],
   "source": [
    "# Inicializa a variável total12 com 0\n",
    "total12 = 0\n",
    "\n",
    "# Atribui o valor de i para j (o valor específico de i não é fornecido no código)\n",
    "j = 1\n",
    "\n",
    "# Laço while: executa enquanto j for menor que 5\n",
    "while j < 5:\n",
    "    # Adiciona o valor atual de j ao total12 a cada iteração\n",
    "    total12 += j\n",
    "\n",
    "    # Incrementa j em 1 a cada iteração\n",
    "    j += 1\n",
    "\n",
    "# Imprime o valor final de total12 após o término do laço\n",
    "print(total12)\n",
    "\n"
   ]
  },
  {
   "cell_type": "markdown",
   "metadata": {},
   "source": [
    "### Inicialização de Variáveis:\n",
    "\n",
    "total12 = 0 cria uma variável chamada total12 e a inicializa com o valor zero. Essa variável serve como um acumulador que será utilizada para armazenar a soma dos valores durante a execução do programa.\n",
    "2. Atribuição de Variáveis:\n",
    "\n",
    "j = 1 atribui o valor 1 à variável j. Neste caso, o valor inicial de i não é utilizado, e j começa com 1. A escolha de começar com 1 pode depender do contexto específico do programa.\n",
    "3. Laço While:\n",
    "\n",
    "while j < 5: inicia um laço de repetição (loop) que continuará enquanto o valor de j for menor que 5. Isso significa que as instruções dentro do bloco do while serão executadas repetidamente até que j atinja ou ultrapasse o valor 5.\n",
    "4. Acumulação de Soma:\n",
    "\n",
    "total12 += j adiciona o valor atual de j à variável total12 em cada iteração do laço. Isso significa que a cada passo do loop, o valor de j é somado ao valor acumulado em total12.\n",
    "5. Incremento:\n",
    "\n",
    "j += 1 incrementa o valor de j em 1 a cada iteração do loop. Este passo é crucial para evitar um loop infinito, pois move o valor de j em direção à condição de parada do while (j < 5).\n",
    "6. Impressão:\n",
    "\n",
    "Após o término do laço, print(total12) exibe o valor final acumulado em total12. Neste caso específico, o resultado será a soma dos valores de 1 + 2 + 3 + 4, que é 10."
   ]
  },
  {
   "cell_type": "code",
   "execution_count": null,
   "metadata": {},
   "outputs": [
    {
     "name": "stdout",
     "output_type": "stream",
     "text": [
      "17\n"
     ]
    }
   ],
   "source": [
    "given_list = [5, 4, 4, 3, 1, -2, -3, -5]  # Lista fornecida com valores inteiros\n",
    "\n",
    "total13 = 0  # Inicializa a variável para armazenar a soma dos números positivos\n",
    "i = 0        # Inicializa o índice para percorrer a lista\n",
    "\n",
    "while given_list[i] > 0:  # Enquanto o elemento atual for positivo\n",
    "    total13 += given_list[i]  # Adiciona o valor positivo à variável total13\n",
    "    i += 1  # Incrementa o índice para passar para o próximo elemento\n",
    "\n",
    "print(total13)  # Imprime o resultado da soma acumulativa dos números positivos\n"
   ]
  },
  {
   "cell_type": "markdown",
   "metadata": {},
   "source": [
    "O código em Python faz a soma acumulativa dos números positivos em uma lista chamada given_list. \n",
    "\n",
    "### Vou explicar linha por linha:\n",
    "\n",
    "1. **given_list = [5, 4, 4, 3, 1, -2, -3, -5]:** Cria uma lista chamada given_list com os valores fornecidos.\n",
    "\n",
    "2. **total13 = 0:** Inicializa uma variável chamada total13 com o valor zero. Essa variável será usada para armazenar a soma dos números positivos.\n",
    "\n",
    "3. **i = 0:** Inicializa uma variável i (índice) com zero para percorrer os elementos da lista.\n",
    "\n",
    "4. **while given_list[i] > 0:** Inicia um loop while que continua enquanto o elemento atual da lista for maior que zero.\n",
    "\n",
    "5. **total13 += given_list[i]:** Adiciona o valor do elemento atual da lista à variável total13.\n",
    "\n",
    "6. **i += 1:** Incrementa o índice i para passar para o próximo elemento da lista.\n",
    "\n",
    "O loop continua somando os valores positivos até que um número não positivo seja encontrado na lista. Após a conclusão do loop, o código imprime o valor acumulado em total13.\n",
    "\n",
    "#### Para a lista fornecida [5, 4, 4, 3, 1, -2, -3, -5], o código somará os valores [5, 4, 4, 3, 1], resultando em 17. O resultado final é impresso quando o código é executado."
   ]
  },
  {
   "cell_type": "code",
   "execution_count": 21,
   "metadata": {},
   "outputs": [
    {
     "ename": "IndexError",
     "evalue": "list index out of range",
     "output_type": "error",
     "traceback": [
      "\u001b[1;31m---------------------------------------------------------------------------\u001b[0m",
      "\u001b[1;31mIndexError\u001b[0m                                Traceback (most recent call last)",
      "Cell \u001b[1;32mIn[21], line 6\u001b[0m\n\u001b[0;32m      3\u001b[0m total13 \u001b[38;5;241m=\u001b[39m \u001b[38;5;241m0\u001b[39m  \n\u001b[0;32m      4\u001b[0m i \u001b[38;5;241m=\u001b[39m \u001b[38;5;241m0\u001b[39m        \n\u001b[1;32m----> 6\u001b[0m \u001b[38;5;28;01mwhile\u001b[39;00m given_list[i] \u001b[38;5;241m>\u001b[39m \u001b[38;5;241m0\u001b[39m:  \n\u001b[0;32m      7\u001b[0m     total13 \u001b[38;5;241m+\u001b[39m\u001b[38;5;241m=\u001b[39m given_list[i]  \n\u001b[0;32m      8\u001b[0m     i \u001b[38;5;241m+\u001b[39m\u001b[38;5;241m=\u001b[39m \u001b[38;5;241m1\u001b[39m\n",
      "\u001b[1;31mIndexError\u001b[0m: list index out of range"
     ]
    }
   ],
   "source": [
    "given_list = [5, 4, 4, 3, 1,]  \n",
    "\n",
    "total13 = 0  \n",
    "i = 0        \n",
    "\n",
    "while given_list[i] > 0:  \n",
    "    total13 += given_list[i]  \n",
    "    i += 1\n",
    "print(total13)    "
   ]
  },
  {
   "cell_type": "markdown",
   "metadata": {},
   "source": [
    "- **O erro IndexError:** list index out of range indica que o código está tentando acessar um índice na lista que não existe. Isso ocorre quando o índice (i) ultrapassa o comprimento da lista given_list.\n",
    "\n",
    "- Vamos analisar o código para entender o problema. O loop while continua enquanto o elemento atual da lista for maior que zero. No entanto, o código não verifica se o índice i ultrapassou o comprimento da lista antes de tentar acessar given_list[i]. Isso pode ocorrer se todos os elementos da lista forem positivos."
   ]
  },
  {
   "cell_type": "markdown",
   "metadata": {},
   "source": [
    "### Correção deste erro:\n",
    "\n",
    "Para corrigir isso, você pode adicionar uma verificação para garantir que o índice não ultrapasse o comprimento da lista. \n",
    "\n",
    "Modifique o loop da seguinte forma:"
   ]
  },
  {
   "cell_type": "code",
   "execution_count": 24,
   "metadata": {},
   "outputs": [
    {
     "name": "stdout",
     "output_type": "stream",
     "text": [
      "17\n"
     ]
    }
   ],
   "source": [
    "given_list = [5, 4, 4, 3, 1,]  # Lista fornecida com valores inteiros\n",
    "\n",
    "total13 = 0  # Inicializa a variável para armazenar a soma dos números positivos\n",
    "i = 0        # Inicializa o índice para percorrer a lista\n",
    "\n",
    "# Modificação -> Adiciona uma verificação para garantir que o índice não ultrapasse o comprimento da lista\n",
    "while i < len(given_list) and given_list[i] > 0:  # Enquanto o elemento atual for positivo e o índice não ultrapassar o comprimento da lista\n",
    "    total13 += given_list[i]  # Adiciona o valor positivo à variável total13\n",
    "    i += 1  # Incrementa o índice para passar para o próximo elemento\n",
    "\n",
    "print(total13)  # Imprime o resultado da soma acumulativa dos números positivos\n",
    "\n"
   ]
  },
  {
   "cell_type": "markdown",
   "metadata": {},
   "source": [
    "- A modificação introduz uma condição i < len(given_list) dentro da expressão do while. Isso garante que o loop continuará enquanto o índice i for menor do que o comprimento da lista given_list, evitando assim que ocorra o erro IndexError. \n",
    "  \n",
    "  Ao mesmo tempo, a condição given_list[i] > 0 assegura que somente números positivos serão somados."
   ]
  },
  {
   "cell_type": "code",
   "execution_count": 26,
   "metadata": {},
   "outputs": [
    {
     "name": "stdout",
     "output_type": "stream",
     "text": [
      "17\n"
     ]
    }
   ],
   "source": [
    "given_list2 = [5, 4, 4, 3, 1, -2, -3, -5]  # Lista fornecida com valores inteiros\n",
    "\n",
    "total14 = 0  # Inicializa a variável para armazenar a soma dos números positivos\n",
    "\n",
    "# Loop 'for': Itera sobre cada elemento da lista\n",
    "for element in given_list2:\n",
    "    # Condição: Se o elemento for menor ou igual a zero, sai do loop\n",
    "    if element <= 0:\n",
    "        break\n",
    "    # Se o elemento for positivo, adiciona o valor à variável total14\n",
    "    total14 += element\n",
    "\n",
    "# Imprime o resultado da soma acumulativa dos números positivos\n",
    "print(total14)\n"
   ]
  },
  {
   "cell_type": "markdown",
   "metadata": {},
   "source": [
    "### Explicação do código:\n",
    "\n",
    "1. **given_list2 = [5, 4, 4, 3, 1, -2, -3, -5]:** Cria uma lista chamada given_list2 com os valores fornecidos.\n",
    "\n",
    "2. **total14 = 0:** Inicializa uma variável chamada total14 com o valor zero. Essa variável será usada para armazenar a soma dos números positivos.\n",
    "\n",
    "3. **for element in given_list2:** Inicia um loop for que itera sobre cada elemento da lista given_list2.\n",
    "\n",
    "4. **if element <= 0:** Verifica se o elemento atual é menor ou igual a zero.\n",
    "\n",
    "5. **break:** Se a condição do if for verdadeira, o loop é interrompido, saindo dele.\n",
    "\n",
    "6. **total14 += element:** Se o elemento for positivo (não atender à condição do if), adiciona o valor à variável total14.\n",
    "\n",
    "7. **print(total14):** Imprime o resultado da soma acumulativa dos números positivos após a conclusão do loop.\n",
    "\n",
    "\n",
    "- Para a lista fornecida [5, 4, 4, 3, 1, -2, -3, -5], o código somará os valores positivos [5, 4, 4, 3, 1], resultando em 17. O resultado é impresso quando o código é executado. Se encontrar um número não positivo, o loop é interrompido."
   ]
  },
  {
   "cell_type": "code",
   "execution_count": 31,
   "metadata": {},
   "outputs": [
    {
     "name": "stdout",
     "output_type": "stream",
     "text": [
      "17\n"
     ]
    }
   ],
   "source": [
    "# Lista fornecida com valores inteiros\n",
    "# given_list2 = [5, 4, 4, 3, 1, -2, -3, -5]  \n",
    "\n",
    "# Inicializa a variável para armazenar a soma dos números\n",
    "total15 = 0  \n",
    "\n",
    "# Inicializa o índice para percorrer a lista\n",
    "i = 0\n",
    "\n",
    "# Loop 'while True': Itera indefinidamente até que a condição de interrupção seja atendida\n",
    "while True:\n",
    "    # Adiciona o valor do elemento atual à variável total15\n",
    "    total15 += given_list2[i]\n",
    "    \n",
    "    # Incrementa o índice para passar para o próximo elemento\n",
    "    i += 1\n",
    "    \n",
    "    # Condição: Se o próximo elemento for menor ou igual a zero, sai do loop\n",
    "    if given_list2[i] <= 0:\n",
    "        break\n",
    "\n",
    "# Imprime o resultado da soma acumulativa dos números\n",
    "print(total15)\n"
   ]
  },
  {
   "cell_type": "markdown",
   "metadata": {},
   "source": [
    "### Explicação do código:\n",
    "\n",
    "1. **given_list2 = [5, 4, 4, 3, 1, -2, -3, -5]:** Cria uma lista chamada given_list2 com os valores fornecidos.\n",
    "\n",
    "2. **total15 = 0:** Inicializa uma variável chamada total15 com o valor zero. Essa variável será usada para armazenar a soma dos números.\n",
    "\n",
    "3. **i = 0:** Inicializa o índice i para percorrer a lista.\n",
    "\n",
    "4. **while True:** Inicia um loop while que itera indefinidamente até que a condição de interrupção seja atendida.\n",
    "\n",
    "5. **total15 += given_list2[i]:** Adiciona o valor do elemento atual à variável total15.\n",
    "\n",
    "6. **i += 1:** Incrementa o índice i para passar para o próximo elemento da lista.\n",
    "\n",
    "7. **if given_list2[i] <= 0:** Verifica se o próximo elemento é menor ou igual a zero.\n",
    "\n",
    "8. **break:** Se a condição do if for verdadeira, o loop é interrompido, saindo dele.\n",
    "\n",
    "9 **print(total15):** Imprime o resultado da soma acumulativa dos números após a conclusão do loop.\n",
    "\n",
    "\n",
    "- Este código utiliza um loop while True e quebra o loop quando encontra um número não positivo na lista given_list2. Isso resulta na soma acumulativa dos números positivos."
   ]
  },
  {
   "attachments": {
    "image.png": {
     "image/png": "[encoded data removed]"
    }
   },
   "cell_type": "markdown",
   "metadata": {},
   "source": [
    "- Com o loop while, podemos executar um conjunto de instruções repetidamente, desde que uma condição seja verdadeira.\n",
    "\n",
    "\n",
    "Sintaxe:\n",
    "\n",
    "![image.png](attachment:image.png)"
   ]
  },
  {
   "cell_type": "markdown",
   "metadata": {},
   "source": [
    "- Todas as instruções recuadas pelo mesmo número de espaços de caracteres após uma condição de tempo são consideradas parte de um único bloco de código. \n",
    "  \n",
    "  Python usa recuo como seu método de agrupamento de instruções.\n",
    "\n",
    "Por exemplo:\n",
    "\n"
   ]
  },
  {
   "cell_type": "code",
   "execution_count": 33,
   "metadata": {},
   "outputs": [
    {
     "name": "stdout",
     "output_type": "stream",
     "text": [
      "1\n",
      "2\n",
      "3\n"
     ]
    }
   ],
   "source": [
    "x = 1\n",
    "while x < 4:\n",
    "  print(x)\n",
    "  x = x + 1"
   ]
  },
  {
   "cell_type": "markdown",
   "metadata": {},
   "source": [
    "### Vamos entender o que está acontecendo no programa acima.\n",
    "\n",
    "1. O valor de x é atribuído como 1\n",
    "2. O loop while começa com a condição de que x deve ser menor que 4\n",
    "3. As duas instruções subsequentes têm o mesmo recuo e serão consideradas parte do loop while\n",
    "4. O valor de x é impresso. Inicialmente, x=1\n",
    "5. O valor de x é então aumentado em 1. Então, agora, x=2\n",
    "6. O controle volta para a linha de condição; x é menor que 4 (2<4). Isso significa que as seguintes instruções serão executadas novamente\n",
    "7. Isso continua até que x seja atribuído um valor de 4. Então, a condição falha como x não é menor que 4\n",
    "8. As duas instruções seguintes não serão executadas e o loop while terminará."
   ]
  },
  {
   "cell_type": "markdown",
   "metadata": {},
   "source": [
    "### range()\n",
    "\n",
    "- range() permite que o usuário gere uma série de números dentro de um determinado intervalo.\n",
    "- O usuário pode decidir onde essa série de números começará e terminará e qual será o tamanho da diferença entre um número e outro.\n",
    "- range() usa principalmente três argumentos:\n",
    "\n",
    "1. Um argumento inicial é um número inicial da sequência, ou seja, limite inferior. Por padrão, ele começa com 0 se não for especificado.\n",
    "2. Um argumento stop é um limite superior, ou seja, gerar números até esse número. O range() não inclui esse número no resultado.\n",
    "3. A etapa é uma diferença entre cada número no resultado. O valor padrão da etapa é um se não for especificado.\n",
    "\n",
    "- range() só funciona com os inteiros. Você não pode usar o número float ou qualquer outro tipo em um argumento start, stop e step de um range().\n",
    "\n",
    "\n",
    "#### Você pode chamar a função de intervalo de três maneiras:\n",
    "\n",
    "1. range(stop) usa um argumento.\n",
    "2. range(start, stop) usa dois argumentos.\n",
    "3. range(start, stop, step) leva três argumentos.\n",
    "\n",
    "\n",
    "**Exemplo 1:** Usando apenas um argumento"
   ]
  },
  {
   "cell_type": "code",
   "execution_count": 34,
   "metadata": {},
   "outputs": [
    {
     "name": "stdout",
     "output_type": "stream",
     "text": [
      "0, 1, 2, 3, 4, "
     ]
    }
   ],
   "source": [
    "# Imprima 5 números usando a função range ()\n",
    "for i in range (5):\n",
    "  print (i, end= ', ')\n"
   ]
  },
  {
   "cell_type": "markdown",
   "metadata": {},
   "source": [
    "- Saída: 0, 1, 2, 3, 4,\n",
    "- Por padrão, a instrução de impressão é impressa em linhas diferentes. Você pode usar o argumento end se quiser imprimir a saída na mesma linha, a vírgula ',' especifica que separará cada saída.\n",
    "- Somente um argumento stop é passado para range(). Então, por padrão, ele leva start = 0 e step = 1."
   ]
  },
  {
   "cell_type": "markdown",
   "metadata": {},
   "source": [
    "**Exemplo 2:** Usando dois argumentos (ou seja, iniciar e parar)"
   ]
  },
  {
   "cell_type": "code",
   "execution_count": 35,
   "metadata": {},
   "outputs": [
    {
     "name": "stdout",
     "output_type": "stream",
     "text": [
      "5, 6, 7, 8, 9, "
     ]
    }
   ],
   "source": [
    "for i in range(5, 10):\n",
    "  print(i, end= ', ')"
   ]
  },
  {
   "cell_type": "markdown",
   "metadata": {},
   "source": [
    "- Saída: 5, 6, 7, 8, 9,\n",
    "- Por padrão, ele tomou o valor da etapa como 1º."
   ]
  },
  {
   "cell_type": "markdown",
   "metadata": {},
   "source": [
    "**Exemplo 3:** Usando os três argumentos"
   ]
  },
  {
   "cell_type": "code",
   "execution_count": 36,
   "metadata": {},
   "outputs": [
    {
     "name": "stdout",
     "output_type": "stream",
     "text": [
      "Printing all even numbers betwen 2 and 10 using ranbge()\n",
      "2, 4, 6, 8, "
     ]
    }
   ],
   "source": [
    "print (\"Printing all even numbers betwen 2 and 10 using ranbge()\")\n",
    "for i in range(2, 10, 2):\n",
    "  print(i, end= ', ')"
   ]
  },
  {
   "cell_type": "markdown",
   "metadata": {},
   "source": [
    "- Saída: Imprimindo todos os números pares entre 2 e 10 usando range() 2, 4, 6, 8,\n",
    "- Todos os três argumentos estão especificados, ou seja, início = 2, fim = 10, passo = 2. \n",
    "  \n",
    "  O valor do passo é dois, então a diferença entre cada número é 2.\n",
    "\n",
    "\n",
    "\n",
    "\n"
   ]
  },
  {
   "cell_type": "markdown",
   "metadata": {},
   "source": [
    "## Recomendações de Leitura adicional\n",
    "\n",
    "### Alguns outros conceitos como break, continue e loops aninhados são comumente usados em Python.\n",
    "\n",
    "- Aprenda mais conceitos importantes no cheat sheet abaixo: https://www.codecademy.com/learn/learn-python-3/modules/learn-python3-loops/cheatsheet\n"
   ]
  },
  {
   "cell_type": "markdown",
   "metadata": {},
   "source": [
    "## Mais práticas!\n",
    "\n"
   ]
  },
  {
   "cell_type": "markdown",
   "metadata": {},
   "source": [
    "1. Imprima os dez primeiros números naturais usando um loop while."
   ]
  },
  {
   "cell_type": "code",
   "execution_count": 37,
   "metadata": {},
   "outputs": [
    {
     "name": "stdout",
     "output_type": "stream",
     "text": [
      "1\n",
      "2\n",
      "3\n",
      "4\n",
      "5\n",
      "6\n",
      "7\n",
      "8\n",
      "9\n",
      "10\n"
     ]
    }
   ],
   "source": [
    "# Inicializa uma variável para representar o número atual\n",
    "numero_atual = 1\n",
    "\n",
    "# Usa um loop while para imprimir os dez primeiros números naturais\n",
    "while numero_atual <= 10:\n",
    "    print(numero_atual)\n",
    "    numero_atual += 1  # Incrementa o número atual para passar para o próximo\n",
    "\n",
    "# O loop continuará até que o número atual seja 11, então termina\n"
   ]
  },
  {
   "cell_type": "markdown",
   "metadata": {},
   "source": [
    "- Este código começa com numero_atual igual a 1 e imprime cada número enquanto numero_atual for menor ou igual a 10. Em cada iteração, numero_atual é incrementado em 1 para passar para o próximo número natural. O loop terminará quando numero_atual atingir 11.\n",
    "\n",
    "\n",
    "\n",
    "\n",
    "\n",
    "\n"
   ]
  },
  {
   "cell_type": "markdown",
   "metadata": {},
   "source": [
    "2. Itere sobre a seguinte lista e imprima os elementos: list1 = [12, 15, 32, 42, 55, 75, 122, 132, 150, 180, 200]"
   ]
  },
  {
   "cell_type": "code",
   "execution_count": 38,
   "metadata": {},
   "outputs": [
    {
     "name": "stdout",
     "output_type": "stream",
     "text": [
      "12\n",
      "15\n",
      "32\n",
      "42\n",
      "55\n",
      "75\n",
      "122\n",
      "132\n",
      "150\n",
      "180\n",
      "200\n"
     ]
    }
   ],
   "source": [
    "# Lista fornecida\n",
    "list1 = [12, 15, 32, 42, 55, 75, 122, 132, 150, 180, 200]\n",
    "\n",
    "# Itera sobre a lista e imprime cada elemento\n",
    "for elemento in list1:\n",
    "    print(elemento)\n"
   ]
  },
  {
   "cell_type": "markdown",
   "metadata": {},
   "source": [
    "### Explicação do código:\n",
    "\n",
    "1. **list1 = [12, 15, 32, 42, 55, 75, 122, 132, 150, 180, 200]:** Cria uma lista chamada list1 com os valores fornecidos.\n",
    "\n",
    "2. **for elemento in list1:** Inicia um loop for que itera sobre cada elemento da lista list1.\n",
    "\n",
    "3. **print(elemento):** Imprime o valor do elemento atual. O loop percorre todos os elementos da lista, imprimindo cada um em uma linha separada.\n",
    "\n",
    "Este código é uma maneira simples e eficaz de iterar sobre os elementos de uma lista e imprimir cada valor."
   ]
  },
  {
   "cell_type": "markdown",
   "metadata": {},
   "source": [
    "3. Use a função enumerate para imprimir os elementos desta lista junto com os índices:\n",
    "supermercado = ['pão', 'leite', 'manteiga']"
   ]
  },
  {
   "cell_type": "code",
   "execution_count": 1,
   "metadata": {},
   "outputs": [
    {
     "name": "stdout",
     "output_type": "stream",
     "text": [
      "Índice 0: pão\n",
      "Índice 1: leite\n",
      "Índice 2: manteiga\n"
     ]
    }
   ],
   "source": [
    "# Lista fornecida\n",
    "supermercado = ['pão', 'leite', 'manteiga']\n",
    "\n",
    "# Usa a função enumerate para obter índices e elementos da lista\n",
    "for indice, item in enumerate(supermercado):\n",
    "    print(f\"Índice {indice}: {item}\")\n"
   ]
  },
  {
   "cell_type": "markdown",
   "metadata": {},
   "source": [
    "### Explicação do código:\n",
    "\n",
    "1. **supermercado = ['pão', 'leite', 'manteiga']:** Cria uma lista chamada supermercado com os valores fornecidos.\n",
    "\n",
    "2. **for indice, item in enumerate(supermercado):** Utiliza a função enumerate para obter pares de índice e elemento da lista.\n",
    "\n",
    "3. **print(f\"Índice {indice}: {item}\"):** Imprime cada elemento junto com seu índice.\n",
    "\n",
    "O uso da função enumerate simplifica a obtenção dos índices e elementos da lista simultaneamente, tornando o código mais conciso e legível."
   ]
  },
  {
   "cell_type": "markdown",
   "metadata": {},
   "source": [
    "4. Crie uma sequência de números de 3 a 5 e imprima cada item na sequência."
   ]
  },
  {
   "cell_type": "code",
   "execution_count": 2,
   "metadata": {},
   "outputs": [
    {
     "name": "stdout",
     "output_type": "stream",
     "text": [
      "3\n",
      "4\n",
      "5\n"
     ]
    }
   ],
   "source": [
    "# Cria uma sequência de números de 3 a 5 (o limite superior é exclusivo)\n",
    "sequencia = range(3, 6)\n",
    "\n",
    "# Itera sobre a sequência e imprime cada item\n",
    "for numero in sequencia:\n",
    "    print(numero)\n",
    "\n"
   ]
  },
  {
   "cell_type": "markdown",
   "metadata": {},
   "source": [
    "### Explicação do código:\n",
    "\n",
    "1. **range(3, 6):** Cria uma sequência de números começando de 3 até (mas não incluindo) 6.\n",
    "\n",
    "2. **for numero in sequencia:** Utiliza um loop for para iterar sobre cada número na sequência.\n",
    "\n",
    "3. **print(numero):** Imprime cada número na sequência.\n",
    "\n",
    "Este código cria e imprime a sequência de números de 3 a 5."
   ]
  },
  {
   "cell_type": "markdown",
   "metadata": {},
   "source": [
    "5. Crie uma sequência de números de 3 a 19, mas incremente em 2 em vez de 1."
   ]
  },
  {
   "cell_type": "code",
   "execution_count": 3,
   "metadata": {},
   "outputs": [
    {
     "name": "stdout",
     "output_type": "stream",
     "text": [
      "3\n",
      "5\n",
      "7\n",
      "9\n",
      "11\n",
      "13\n",
      "15\n",
      "17\n",
      "19\n"
     ]
    }
   ],
   "source": [
    "# Cria uma sequência de números de 3 a 19, incrementando de 2 em 2\n",
    "sequencia = range(3, 20, 2)\n",
    "\n",
    "# Itera sobre a sequência e imprime cada item\n",
    "for numero in sequencia:\n",
    "    print(numero)\n"
   ]
  },
  {
   "cell_type": "markdown",
   "metadata": {},
   "source": [
    "### Explicação do código:\n",
    "\n",
    "1. **range(3, 20, 2):** Cria uma sequência de números começando de 3 até (mas não incluindo) 20, com um passo de 2.\n",
    "\n",
    "2. **for numero in sequencia:** Utiliza um loop for para iterar sobre cada número na sequência.\n",
    "\n",
    "3. **print(numero):** Imprime cada número na sequência.\n",
    "\n",
    "Este código cria e imprime a sequência de números de 3 a 19, incrementando de 2 em 2."
   ]
  },
  {
   "cell_type": "markdown",
   "metadata": {},
   "source": [
    "6. Imprima as letras da string \"Python\" na mesma linha:\n",
    "- Usando um loop simples for;\n",
    "- Usando a função range;"
   ]
  },
  {
   "cell_type": "code",
   "execution_count": 5,
   "metadata": {},
   "outputs": [
    {
     "name": "stdout",
     "output_type": "stream",
     "text": [
      "P y t h o n "
     ]
    }
   ],
   "source": [
    "# Usando um loop simples:\n",
    "\n",
    "# String fornecida\n",
    "palavra = \"Python\"\n",
    "\n",
    "# Itera sobre cada letra da string e imprime na mesma linha\n",
    "for letra in palavra:\n",
    "    print(letra, end=' ')\n"
   ]
  },
  {
   "cell_type": "code",
   "execution_count": 6,
   "metadata": {},
   "outputs": [
    {
     "name": "stdout",
     "output_type": "stream",
     "text": [
      "P y t h o n "
     ]
    }
   ],
   "source": [
    "# Usando a função range:\n",
    "\n",
    "# String fornecida\n",
    "palavra = \"Python\"\n",
    "\n",
    "# Itera sobre os índices da string usando a função range e imprime cada letra na mesma linha\n",
    "for indice in range(len(palavra)):\n",
    "    print(palavra[indice], end=' ')\n"
   ]
  },
  {
   "cell_type": "markdown",
   "metadata": {},
   "source": [
    "Ambos os códigos imprimirão as letras da string \"Python\" na mesma linha. O parâmetro end=' ' no print é usado para separar as letras por um espaço em vez de uma quebra de linha padrão. \n",
    "\n",
    "#### Escolha o melhor método que preferir!!!"
   ]
  },
  {
   "cell_type": "markdown",
   "metadata": {},
   "source": [
    "<div align=\"center\">\n",
    "  <h1>\"ATIVIDADE!\"</h1>\n",
    "</div>"
   ]
  },
  {
   "cell_type": "markdown",
   "metadata": {},
   "source": [
    "\n",
    "\n",
    "1. Qual das sequências a seguir seria gerada pela implementação de loop for com o intervalo dado?\n",
    " \n",
    "\n",
    "for num no intervalo(2,-5,-1):\n",
    "\n",
    "print(num, final = \",\")\n",
    "\n",
    "\n",
    "a) 2, 1, 0,\n",
    "\n",
    "\n",
    "b) 2, 1, 0, -1, -2, -3, -4,\n",
    "\n",
    "\n",
    "c) 2, 1, 0, -1, -2, -3, -4, -5,"
   ]
  },
  {
   "cell_type": "markdown",
   "metadata": {},
   "source": [
    "- Resposta: a)"
   ]
  },
  {
   "cell_type": "code",
   "execution_count": 1,
   "metadata": {},
   "outputs": [
    {
     "name": "stdout",
     "output_type": "stream",
     "text": [
      "2, 1, 0, -1, -2, -3, -4, "
     ]
    }
   ],
   "source": [
    "# Utilizando a função range com parâmetros (start, stop, step)\n",
    "# start = 2: início do intervalo\n",
    "# stop = -5: fim do intervalo (não incluído)\n",
    "# step = -1: passo de -1, ou seja, decremento de 1 a cada iteração\n",
    "\n",
    "# O loop for irá iterar sobre os valores gerados pela função range\n",
    "for num in range(2, -5, -1):\n",
    "    # Imprime o valor atual seguido de uma vírgula e um espaço\n",
    "    print(num, end=\", \")\n",
    "\n",
    "# A saída será a sequência desejada\n",
    "# 2, 1, 0, -1, -2, -3, -4,\n"
   ]
  },
  {
   "cell_type": "markdown",
   "metadata": {},
   "source": [
    "2. Qual é a saída do seguinte loop aninhado?\n",
    "\n",
    "numbers = [10, 20]\n",
    "\n",
    "items = [\"Chair\", \"Table\"]\n",
    "\n",
    "for x in numbers:\n",
    "    \n",
    "    for y in items:\n",
    "        \n",
    "        print(x, y)\n"
   ]
  },
  {
   "attachments": {
    "image-2.png": {
     "image/png": "[encoded data removed]"
    },
    "image.png": {
     "image/png": "[encoded data removed]"
    }
   },
   "cell_type": "markdown",
   "metadata": {},
   "source": [
    "a) \n",
    "\n",
    "![image.png](attachment:image.png)\n",
    "\n",
    "b) \n",
    "\n",
    "![image-2.png](attachment:image-2.png)"
   ]
  },
  {
   "cell_type": "markdown",
   "metadata": {},
   "source": [
    "- Resposta: b)"
   ]
  },
  {
   "cell_type": "code",
   "execution_count": 2,
   "metadata": {},
   "outputs": [
    {
     "name": "stdout",
     "output_type": "stream",
     "text": [
      "10 Chair\n",
      "10 Table\n",
      "20 Chair\n",
      "20 Table\n"
     ]
    }
   ],
   "source": [
    "# Lista de números\n",
    "numbers = [10, 20]\n",
    "\n",
    "# Lista de itens\n",
    "items = [\"Chair\", \"Table\"]\n",
    "\n",
    "# Loop externo para iterar sobre os números\n",
    "for x in numbers:\n",
    "    # Loop interno para iterar sobre os itens\n",
    "    for y in items:\n",
    "        # Imprime a combinação de número e item\n",
    "        print(x, y)\n",
    "\n",
    "# A saída será a combinação de cada número com cada item\n",
    "# 10 Chair\n",
    "# 10 Table\n",
    "# 20 Chair\n",
    "# 20 Table\n",
    "\n"
   ]
  },
  {
   "cell_type": "markdown",
   "metadata": {},
   "source": [
    "3. Qual dos itens a seguir é válido for loop em Python?\n",
    "\n",
    "\n",
    "a) for i in range(0,5):\n",
    "\n",
    "\n",
    "b) for i in range(5)\n",
    "\n",
    "\n",
    "c) for(i=0; i < n; i++)\n",
    "\n",
    "\n",
    "d) for(i=0; i < n; i++)\n",
    "\n"
   ]
  },
  {
   "cell_type": "markdown",
   "metadata": {},
   "source": [
    "- Resposta: a)"
   ]
  },
  {
   "cell_type": "code",
   "execution_count": 3,
   "metadata": {},
   "outputs": [
    {
     "name": "stdout",
     "output_type": "stream",
     "text": [
      "0\n",
      "1\n",
      "2\n",
      "3\n",
      "4\n"
     ]
    }
   ],
   "source": [
    "# a) for i in range(0,5):\n",
    "for i in range(0, 5):\n",
    "    print(i)\n",
    "# Este loop irá iterar sobre os números de 0 a 4.\n",
    "\n",
    "# b) for i in range(5)\n",
    "# A opção b está incompleta e geraria um erro de sintaxe.\n",
    "# A correta seria: for i in range(5): \n",
    "\n",
    "# c) for(i=0; i < n; i++)\n",
    "# A opção c possui sintaxe de loop em C, não em Python.\n",
    "# Em Python, a sintaxe correta seria: for i in range(n):\n",
    "\n",
    "# d) for(i=0; i < n; i++)\n",
    "# A opção d também possui sintaxe de loop em C, não em Python.\n",
    "# A sintaxe correta em Python seria: for i in range(n):\n"
   ]
  },
  {
   "attachments": {
    "image.png": {
     "image/png": "[encoded data removed]"
    }
   },
   "cell_type": "markdown",
   "metadata": {},
   "source": [
    "5. Qual é a saída do código?\n",
    "\n",
    "![image.png](attachment:image.png)\n",
    "\n",
    "\n"
   ]
  },
  {
   "attachments": {
    "image-2.png": {
     "image/png": "[encoded data removed]"
    },
    "image-3.png": {
     "image/png": "[encoded data removed]"
    },
    "image.png": {
     "image/png": "[encoded data removed]"
    }
   },
   "cell_type": "markdown",
   "metadata": {},
   "source": [
    "a)\n",
    "\n",
    "![image.png](attachment:image.png)\n",
    "\n",
    "b)\n",
    "\n",
    "![image-2.png](attachment:image-2.png)\n",
    "\n",
    "c)\n",
    "\n",
    "![image-3.png](attachment:image-3.png)"
   ]
  },
  {
   "cell_type": "markdown",
   "metadata": {},
   "source": [
    "- Resposta: c)"
   ]
  },
  {
   "cell_type": "code",
   "execution_count": 6,
   "metadata": {},
   "outputs": [
    {
     "name": "stdout",
     "output_type": "stream",
     "text": [
      "hi\n",
      "hi\n",
      "hi\n"
     ]
    }
   ],
   "source": [
    "# Inicializa uma variável 'i' com o valor 0\n",
    "i = 0\n",
    "\n",
    "# O loop while será executado enquanto a condição (i < 3) for verdadeira\n",
    "while(i < 3):\n",
    "    # Imprime a string \"hi\" durante cada iteração do loop\n",
    "    print(\"hi\")\n",
    "\n",
    "    # Incrementa o valor de 'i' em 1 após cada iteração\n",
    "    i += 1\n",
    "\n",
    "# Quando a condição (i < 3) se tornar falsa, o loop while termina\n"
   ]
  },
  {
   "cell_type": "markdown",
   "metadata": {},
   "source": [
    "6. Qual das sequências a seguir seria gerada pela implementação de loop for com o intervalo dado?\n",
    "\n",
    "range (5, 0, -2)\n",
    "\n",
    "\n",
    "a) 5 3 1\n",
    "\n",
    "\n",
    "b) 5 4 3 2 1 0\n",
    "\n",
    "\n",
    "c) 5 4 3 2 1 0 -1\n",
    "\n",
    "\n",
    "d) Nenhuma das opções acima"
   ]
  },
  {
   "cell_type": "markdown",
   "metadata": {},
   "source": [
    "- Resposta: a)"
   ]
  },
  {
   "cell_type": "code",
   "execution_count": 7,
   "metadata": {},
   "outputs": [
    {
     "name": "stdout",
     "output_type": "stream",
     "text": [
      "5 3 1 "
     ]
    }
   ],
   "source": [
    "# Utilizando a função range com parâmetros (start, stop, step)\n",
    "# start = 5: início do intervalo\n",
    "# stop = 0: fim do intervalo (não incluído)\n",
    "# step = -2: passo de -2, ou seja, decremento de 2 a cada iteração\n",
    "\n",
    "# O loop for irá iterar sobre os valores gerados pela função range\n",
    "for num in range(5, 0, -2):\n",
    "    # Imprime o valor atual seguido de um espaço\n",
    "    print(num, end=\" \")\n",
    "\n",
    "# A saída será a sequência desejada\n",
    "# 5 3 1\n"
   ]
  },
  {
   "attachments": {
    "image.png": {
     "image/png": "[encoded data removed]"
    }
   },
   "cell_type": "markdown",
   "metadata": {},
   "source": [
    "7. Qual será a saída do seguinte código Python?\n",
    "\n",
    "![image.png](attachment:image.png)\n",
    "\n",
    "a) ['ab', 'cd']\n",
    "\n",
    "\n",
    "b) ['AB', 'CD']\n",
    "\n",
    "\n",
    "c) [Nenhum, Nenhum]\n",
    "\n",
    "\n",
    "d) nenhuma das opções acima"
   ]
  },
  {
   "cell_type": "markdown",
   "metadata": {},
   "source": [
    "- Resposta: a)"
   ]
  },
  {
   "cell_type": "code",
   "execution_count": 16,
   "metadata": {},
   "outputs": [
    {
     "name": "stdout",
     "output_type": "stream",
     "text": [
      "['ab', 'cd']\n"
     ]
    }
   ],
   "source": [
    "# Lista de strings\n",
    "x = ['ab', 'cd']\n",
    "\n",
    "# Loop for para iterar sobre os elementos da lista\n",
    "for i in x:\n",
    "    # A chamada de i.upper() retorna a string em maiúsculas, mas não modifica i.\n",
    "    i.upper()\n",
    "\n",
    "# A lista original não é modificada, permanece como ['ab', 'cd']\n",
    "# Isso ocorre porque a função upper() retorna uma nova string em maiúsculas, mas não altera a string original.\n",
    "# Para modificar a lista, seria necessário atribuir os resultados de i.upper() de volta à lista.\n",
    "# Por exemplo, poderia ser feito assim: x = [i.upper() for i in x]\n",
    "\n",
    "# Imprime a lista original\n",
    "print(x)\n",
    "\n"
   ]
  },
  {
   "attachments": {
    "image.png": {
     "image/png": "[encoded data removed]"
    }
   },
   "cell_type": "markdown",
   "metadata": {},
   "source": [
    "8. Qual é a saída do seguinte?\n",
    "\n",
    "![image.png](attachment:image.png)\n",
    "\n",
    "a) A B C D\n",
    "\n",
    "\n",
    "b) a b c d\n",
    "\n",
    "\n",
    "c) a B C D\n",
    "\n",
    "\n",
    "d) erro"
   ]
  },
  {
   "cell_type": "markdown",
   "metadata": {},
   "source": [
    "- Resposta: a)\n",
    "  "
   ]
  },
  {
   "cell_type": "code",
   "execution_count": 13,
   "metadata": {},
   "outputs": [
    {
     "name": "stdout",
     "output_type": "stream",
     "text": [
      "A\n",
      "B\n",
      "C\n",
      "D\n"
     ]
    }
   ],
   "source": [
    "# String\n",
    "x = 'abcd'\n",
    "\n",
    "# Loop for para iterar sobre os caracteres da string 'x'\n",
    "for i in x:\n",
    "    # Imprime cada caractere convertido para maiúsculas usando o método upper()\n",
    "    print(i.upper())\n",
    "\n",
    "# A saída será a versão em maiúsculas de cada caractere da string 'x'\n",
    "# Em cada iteração, o caractere é convertido para maiúsculas e impresso em uma nova linha.\n"
   ]
  },
  {
   "cell_type": "markdown",
   "metadata": {},
   "source": [
    "9. Você tem uma lista que contém dez elementos. Qual dos seguintes usos de range() produziria uma lista dos índices na lista?\n",
    "\n",
    "\n",
    "a) range(0,9)\n",
    "\n",
    "\n",
    "b) range(1,10)\n",
    "\n",
    "\n",
    "c) range(1,9)\n",
    "\n",
    "\n",
    "d) range(10)"
   ]
  },
  {
   "cell_type": "markdown",
   "metadata": {},
   "source": [
    "- Resposta: d)\n",
    "\n",
    " range(10)\n",
    "\n",
    "- Esta opção gera uma sequência de números de 0 a 9 (10 não incluído).\n",
    "- Na context da pergunta, assume-se que temos uma lista com dez elementos.\n",
    "- Resultado: [0, 1, 2, 3, 4, 5, 6, 7, 8, 9]\n",
    "- Essa sequência representa os índices válidos para acessar cada elemento na lista.\n"
   ]
  },
  {
   "attachments": {
    "image.png": {
     "image/png": "[encoded data removed]"
    }
   },
   "cell_type": "markdown",
   "metadata": {},
   "source": [
    "10. Qual é a saída?\n",
    "\n",
    "![image.png](attachment:image.png)\n",
    "\n",
    "\n",
    "a) 100\n",
    "\n",
    "\n",
    "b) 99\n",
    "\n",
    "\n",
    "c) Nenhuma delas, este é um loop infinito\n",
    "\n",
    "\n",
    "d) 101"
   ]
  },
  {
   "cell_type": "markdown",
   "metadata": {},
   "source": [
    "- Resposta: a)"
   ]
  },
  {
   "cell_type": "code",
   "execution_count": 15,
   "metadata": {},
   "outputs": [
    {
     "name": "stdout",
     "output_type": "stream",
     "text": [
      "100\n"
     ]
    }
   ],
   "source": [
    "# Inicializa a variável 'x' com o valor 0\n",
    "x = 0\n",
    "\n",
    "# Loop while: continuará enquanto a condição (x < 100) for verdadeira\n",
    "while (x < 100):\n",
    "    # Incrementa 'x' por 2 a cada iteração\n",
    "    x += 2\n",
    "\n",
    "# Após o término do loop, imprime o valor final de 'x'\n",
    "print(x)\n"
   ]
  },
  {
   "cell_type": "code",
   "execution_count": null,
   "metadata": {},
   "outputs": [],
   "source": []
  }
 ],
 "metadata": {
  "kernelspec": {
   "display_name": "base",
   "language": "python",
   "name": "python3"
  },
  "language_info": {
   "codemirror_mode": {
    "name": "ipython",
    "version": 3
   },
   "file_extension": ".py",
   "mimetype": "text/x-python",
   "name": "python",
   "nbconvert_exporter": "python",
   "pygments_lexer": "ipython3",
   "version": "3.11.5"
  }
 },
 "nbformat": 4,
 "nbformat_minor": 2
}
