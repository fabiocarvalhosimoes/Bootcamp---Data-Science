{
 "cells": [
  {
   "cell_type": "markdown",
   "metadata": {},
   "source": [
    "<div align=\"center\">\n",
    "  <h1>\"Declaração condicional e dicionários\"</h1>\n",
    "</div>\n",
    "\n",
    "### Objetivos de aprendizagem\n",
    "\n",
    "- Declaração condicional\n",
    "- Dicionário\n",
    "\n",
    "\n",
    "### Declaração condicional: **if-elif-else**\n",
    "\n",
    "- No mundo real, geralmente avaliamos as informações ao nosso redor e, em seguida, escolhemos um curso de ação ou outro com base no que observamos:\n",
    "\n",
    "Se o tempo estiver bom, então vou dar uma volta. (Está implícito que não vou passear se o tempo não estiver bom.)\n",
    "\n",
    "- Em um programa Python, a instrução **if** é como você executa essa tomada de decisão. Ele permite a execução condicional de uma instrução ou grupo de instruções com base no valor de uma expressão.\n",
    "\n",
    "\n",
    "Tutorial sobre instruções condicionais"
   ]
  },
  {
   "cell_type": "markdown",
   "metadata": {},
   "source": []
  }
 ],
 "metadata": {
  "language_info": {
   "name": "python"
  }
 },
 "nbformat": 4,
 "nbformat_minor": 2
}
