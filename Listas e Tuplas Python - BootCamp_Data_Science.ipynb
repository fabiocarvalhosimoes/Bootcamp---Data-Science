{
 "cells": [
  {
   "cell_type": "markdown",
   "metadata": {},
   "source": [
    "<div align=\"center\">\n",
    "  <h1>Listas e Tuplas</h1>\n",
    "</div>\n",
    "\n",
    "\n",
    "### Lista em Python\n",
    "\n",
    "\n",
    "Como o nome sugere, List é uma sequência ordenada de dados. Na vida real, se você pudesse fazer uma lista de coisas que vêm à sua mente (ou evento para qualquer propósito específico), poderia ser algo assim:\n",
    "\n",
    "- Escova\n",
    "- Leuven\n",
    "- 48851964400\n",
    "- 3.14\n",
    "- Mamãe\n",
    "\n",
    "\n",
    "**Bem, esta é a minha lista.** Você pode fazer sua lista e incluir o que quiser nela. Então, na minha lista, eu incluí o que eu faço de manhã cedo, minha cidade, meu número de celular, o valor de pi a dois dígitos e a mãe. Ele tem diferentes tipos de dados – strings, float e inteiro.\n",
    "\n",
    "- **Esse é o tipo de flexibilidade que o Python List oferece.** Ele pode conter diferentes tipos de tipos de dados. Declarar uma Lista é bastante simples. **Use colchetes ([]) e separe os itens por uma vírgula.** \n",
    " \n",
    "\n",
    "Exemplo:\n",
    "\n",
    "\n",
    "A = [\"Pincel\", \"Lovaina\", 48851964400, 3.14, \"Mãe\"]\n",
    "\n",
    "- As listas são mutáveis. Digamos que se você quiser alterar algum item em uma lista, você pode fazer isso. Por exemplo, se eu não gosto de 'Brush' e quero substituir isso por 'Morning Walk'.\n",
    "\n",
    "\n",
    "A = [\"Morning Walk\", \"Leuven\", 48851964400, 3.14, \"Mom\"]\n",
    "\n",
    "#### Algumas características essenciais das listas Python são:\n",
    "\n",
    "* Coleta de valores\n",
    "* Pode ser de qualquer tipo de dados\n",
    "* Pode ser uma combinação de diferentes tipos"
   ]
  },
  {
   "cell_type": "code",
   "execution_count": null,
   "metadata": {},
   "outputs": [],
   "source": []
  }
 ],
 "metadata": {
  "kernelspec": {
   "display_name": "base",
   "language": "python",
   "name": "python3"
  },
  "language_info": {
   "codemirror_mode": {
    "name": "ipython",
    "version": 3
   },
   "file_extension": ".py",
   "mimetype": "text/x-python",
   "name": "python",
   "nbconvert_exporter": "python",
   "pygments_lexer": "ipython3",
   "version": "3.11.5"
  }
 },
 "nbformat": 4,
 "nbformat_minor": 2
}
